{
 "cells": [
  {
   "cell_type": "code",
   "execution_count": 1,
   "id": "a4f3f2fb",
   "metadata": {},
   "outputs": [
    {
     "data": {
      "text/html": [
       "<div>\n",
       "<style scoped>\n",
       "    .dataframe tbody tr th:only-of-type {\n",
       "        vertical-align: middle;\n",
       "    }\n",
       "\n",
       "    .dataframe tbody tr th {\n",
       "        vertical-align: top;\n",
       "    }\n",
       "\n",
       "    .dataframe thead th {\n",
       "        text-align: right;\n",
       "    }\n",
       "</style>\n",
       "<table border=\"1\" class=\"dataframe\">\n",
       "  <thead>\n",
       "    <tr style=\"text-align: right;\">\n",
       "      <th></th>\n",
       "      <th>ORDERNUMBER</th>\n",
       "      <th>QUANTITYORDERED</th>\n",
       "      <th>ORDERLINENUMBER</th>\n",
       "      <th>SALES</th>\n",
       "      <th>ORDERDATE</th>\n",
       "      <th>STATUS</th>\n",
       "      <th>COUNTRY</th>\n",
       "      <th>DEALSIZE</th>\n",
       "    </tr>\n",
       "  </thead>\n",
       "  <tbody>\n",
       "    <tr>\n",
       "      <th>0</th>\n",
       "      <td>10107</td>\n",
       "      <td>30</td>\n",
       "      <td>2</td>\n",
       "      <td>2871.00</td>\n",
       "      <td>2/24/2003 0:00</td>\n",
       "      <td>Shipped</td>\n",
       "      <td>USA</td>\n",
       "      <td>Small</td>\n",
       "    </tr>\n",
       "    <tr>\n",
       "      <th>1</th>\n",
       "      <td>10121</td>\n",
       "      <td>34</td>\n",
       "      <td>5</td>\n",
       "      <td>2765.90</td>\n",
       "      <td>5/7/2003 0:00</td>\n",
       "      <td>Shipped</td>\n",
       "      <td>France</td>\n",
       "      <td>Small</td>\n",
       "    </tr>\n",
       "    <tr>\n",
       "      <th>2</th>\n",
       "      <td>10134</td>\n",
       "      <td>41</td>\n",
       "      <td>2</td>\n",
       "      <td>3884.34</td>\n",
       "      <td>7/1/2003 0:00</td>\n",
       "      <td>Shipped</td>\n",
       "      <td>France</td>\n",
       "      <td>Medium</td>\n",
       "    </tr>\n",
       "    <tr>\n",
       "      <th>3</th>\n",
       "      <td>10145</td>\n",
       "      <td>45</td>\n",
       "      <td>6</td>\n",
       "      <td>3746.70</td>\n",
       "      <td>8/25/2003 0:00</td>\n",
       "      <td>Shipped</td>\n",
       "      <td>USA</td>\n",
       "      <td>Medium</td>\n",
       "    </tr>\n",
       "    <tr>\n",
       "      <th>4</th>\n",
       "      <td>10159</td>\n",
       "      <td>49</td>\n",
       "      <td>14</td>\n",
       "      <td>5205.27</td>\n",
       "      <td>10/10/2003 0:00</td>\n",
       "      <td>Shipped</td>\n",
       "      <td>USA</td>\n",
       "      <td>Medium</td>\n",
       "    </tr>\n",
       "  </tbody>\n",
       "</table>\n",
       "</div>"
      ],
      "text/plain": [
       "   ORDERNUMBER  QUANTITYORDERED  ORDERLINENUMBER    SALES        ORDERDATE  \\\n",
       "0        10107               30                2  2871.00   2/24/2003 0:00   \n",
       "1        10121               34                5  2765.90    5/7/2003 0:00   \n",
       "2        10134               41                2  3884.34    7/1/2003 0:00   \n",
       "3        10145               45                6  3746.70   8/25/2003 0:00   \n",
       "4        10159               49               14  5205.27  10/10/2003 0:00   \n",
       "\n",
       "    STATUS COUNTRY DEALSIZE  \n",
       "0  Shipped     USA    Small  \n",
       "1  Shipped  France    Small  \n",
       "2  Shipped  France   Medium  \n",
       "3  Shipped     USA   Medium  \n",
       "4  Shipped     USA   Medium  "
      ]
     },
     "execution_count": 1,
     "metadata": {},
     "output_type": "execute_result"
    }
   ],
   "source": [
    "#Import Thu Vien\n",
    "import pandas as pd\n",
    "import seaborn as sns\n",
    "import matplotlib.pyplot as plt \n",
    "\n",
    "#Tai Du Lieu Len Data Frame, dat ten la df\n",
    "df = pd.read_csv('sales_data_sample.csv',header = 0, delimiter = ',', encoding = 'utf-8')\n",
    "df.head()"
   ]
  },
  {
   "cell_type": "code",
   "execution_count": 2,
   "id": "292973e3",
   "metadata": {},
   "outputs": [
    {
     "name": "stdout",
     "output_type": "stream",
     "text": [
      "0.5514261919183568\n"
     ]
    }
   ],
   "source": [
    "#CAU1\n",
    "import numpy as np\n",
    "tuong_quan = np.corrcoef(df['QUANTITYORDERED'],df['SALES'])[0,1]\n",
    "print(tuong_quan)"
   ]
  },
  {
   "cell_type": "code",
   "execution_count": 3,
   "id": "58fb01e0",
   "metadata": {},
   "outputs": [
    {
     "data": {
      "text/html": [
       "<div>\n",
       "<style scoped>\n",
       "    .dataframe tbody tr th:only-of-type {\n",
       "        vertical-align: middle;\n",
       "    }\n",
       "\n",
       "    .dataframe tbody tr th {\n",
       "        vertical-align: top;\n",
       "    }\n",
       "\n",
       "    .dataframe thead th {\n",
       "        text-align: right;\n",
       "    }\n",
       "</style>\n",
       "<table border=\"1\" class=\"dataframe\">\n",
       "  <thead>\n",
       "    <tr style=\"text-align: right;\">\n",
       "      <th></th>\n",
       "      <th>ORDERNUMBER</th>\n",
       "      <th>QUANTITYORDERED</th>\n",
       "      <th>ORDERLINENUMBER</th>\n",
       "      <th>SALES</th>\n",
       "      <th>ORDERDATE</th>\n",
       "      <th>STATUS</th>\n",
       "      <th>DEALSIZE</th>\n",
       "    </tr>\n",
       "    <tr>\n",
       "      <th>COUNTRY</th>\n",
       "      <th></th>\n",
       "      <th></th>\n",
       "      <th></th>\n",
       "      <th></th>\n",
       "      <th></th>\n",
       "      <th></th>\n",
       "      <th></th>\n",
       "    </tr>\n",
       "  </thead>\n",
       "  <tbody>\n",
       "    <tr>\n",
       "      <th>USA</th>\n",
       "      <td>10297362</td>\n",
       "      <td>35659</td>\n",
       "      <td>6369</td>\n",
       "      <td>3627982.83</td>\n",
       "      <td>2/24/2003 0:008/25/2003 0:0010/10/2003 0:0010/...</td>\n",
       "      <td>ShippedShippedShippedShippedShippedShippedShip...</td>\n",
       "      <td>SmallMediumMediumMediumSmallSmallMediumMediumM...</td>\n",
       "    </tr>\n",
       "    <tr>\n",
       "      <th>Spain</th>\n",
       "      <td>3513645</td>\n",
       "      <td>12429</td>\n",
       "      <td>2186</td>\n",
       "      <td>1215686.92</td>\n",
       "      <td>5/13/2005 0:005/28/2003 0:005/31/2005 0:005/13...</td>\n",
       "      <td>DisputedShippedIn ProcessDisputedDisputedShipp...</td>\n",
       "      <td>LargeLargeLargeMediumLargeMediumSmallMediumMed...</td>\n",
       "    </tr>\n",
       "    <tr>\n",
       "      <th>France</th>\n",
       "      <td>3223513</td>\n",
       "      <td>11090</td>\n",
       "      <td>2028</td>\n",
       "      <td>1110916.52</td>\n",
       "      <td>5/7/2003 0:007/1/2003 0:0011/11/2003 0:001/15/...</td>\n",
       "      <td>ShippedShippedShippedShippedShippedShippedShip...</td>\n",
       "      <td>SmallMediumSmallMediumMediumSmallLargeLargeMed...</td>\n",
       "    </tr>\n",
       "    <tr>\n",
       "      <th>Australia</th>\n",
       "      <td>1898841</td>\n",
       "      <td>6246</td>\n",
       "      <td>1181</td>\n",
       "      <td>630623.10</td>\n",
       "      <td>2/20/2004 0:0012/17/2004 0:0011/6/2003 0:007/1...</td>\n",
       "      <td>ShippedShippedShippedShippedShippedShippedShip...</td>\n",
       "      <td>MediumSmallLargeMediumMediumSmallSmallMediumSm...</td>\n",
       "    </tr>\n",
       "    <tr>\n",
       "      <th>UK</th>\n",
       "      <td>1476792</td>\n",
       "      <td>5013</td>\n",
       "      <td>1027</td>\n",
       "      <td>478880.46</td>\n",
       "      <td>4/8/2005 0:004/8/2005 0:006/12/2003 0:0011/14/...</td>\n",
       "      <td>ShippedShippedShippedShippedShippedShippedCanc...</td>\n",
       "      <td>SmallLargeMediumMediumMediumMediumMediumMedium...</td>\n",
       "    </tr>\n",
       "    <tr>\n",
       "      <th>Italy</th>\n",
       "      <td>1158239</td>\n",
       "      <td>3773</td>\n",
       "      <td>890</td>\n",
       "      <td>374674.31</td>\n",
       "      <td>8/17/2004 0:007/6/2004 0:0011/6/2003 0:009/9/2...</td>\n",
       "      <td>ShippedShippedShippedShippedShippedShippedShip...</td>\n",
       "      <td>LargeLargeLargeLargeLargeMediumSmallLargeLarge...</td>\n",
       "    </tr>\n",
       "    <tr>\n",
       "      <th>Finland</th>\n",
       "      <td>944808</td>\n",
       "      <td>3192</td>\n",
       "      <td>587</td>\n",
       "      <td>329581.91</td>\n",
       "      <td>9/30/2004 0:009/30/2004 0:0010/6/2003 0:001/31...</td>\n",
       "      <td>ShippedShippedShippedShippedShippedShippedShip...</td>\n",
       "      <td>SmallMediumMediumMediumSmallLargeMediumMediumM...</td>\n",
       "    </tr>\n",
       "    <tr>\n",
       "      <th>Norway</th>\n",
       "      <td>869325</td>\n",
       "      <td>2842</td>\n",
       "      <td>559</td>\n",
       "      <td>307463.70</td>\n",
       "      <td>11/18/2003 0:0010/15/2004 0:001/29/2003 0:0011...</td>\n",
       "      <td>ShippedShippedShippedShippedShippedShippedShip...</td>\n",
       "      <td>MediumMediumMediumMediumLargeMediumMediumMediu...</td>\n",
       "    </tr>\n",
       "    <tr>\n",
       "      <th>Singapore</th>\n",
       "      <td>806424</td>\n",
       "      <td>2760</td>\n",
       "      <td>544</td>\n",
       "      <td>288488.41</td>\n",
       "      <td>9/19/2003 0:009/19/2003 0:002/4/2004 0:006/15/...</td>\n",
       "      <td>ShippedShippedShippedShippedShippedShippedShip...</td>\n",
       "      <td>LargeMediumLargeMediumMediumLargeMediumMediumM...</td>\n",
       "    </tr>\n",
       "    <tr>\n",
       "      <th>Denmark</th>\n",
       "      <td>644467</td>\n",
       "      <td>2197</td>\n",
       "      <td>399</td>\n",
       "      <td>245637.15</td>\n",
       "      <td>2/11/2003 0:004/9/2004 0:002/11/2003 0:0010/22...</td>\n",
       "      <td>ShippedShippedShippedShippedShippedShippedShip...</td>\n",
       "      <td>LargeMediumLargeLargeMediumMediumMediumMediumS...</td>\n",
       "    </tr>\n",
       "    <tr>\n",
       "      <th>Canada</th>\n",
       "      <td>719223</td>\n",
       "      <td>2293</td>\n",
       "      <td>415</td>\n",
       "      <td>224078.56</td>\n",
       "      <td>12/5/2003 0:005/1/2005 0:006/17/2004 0:008/20/...</td>\n",
       "      <td>ShippedShippedShippedShippedShippedShippedShip...</td>\n",
       "      <td>LargeMediumMediumSmallMediumMediumMediumSmallM...</td>\n",
       "    </tr>\n",
       "    <tr>\n",
       "      <th>Germany</th>\n",
       "      <td>636423</td>\n",
       "      <td>2148</td>\n",
       "      <td>388</td>\n",
       "      <td>220472.09</td>\n",
       "      <td>11/20/2003 0:0010/4/2003 0:0010/16/2004 0:003/...</td>\n",
       "      <td>ShippedShippedShippedShippedShippedShippedShip...</td>\n",
       "      <td>MediumMediumMediumLargeMediumMediumMediumSmall...</td>\n",
       "    </tr>\n",
       "    <tr>\n",
       "      <th>Sweden</th>\n",
       "      <td>585642</td>\n",
       "      <td>2006</td>\n",
       "      <td>337</td>\n",
       "      <td>210014.21</td>\n",
       "      <td>3/24/2003 0:009/8/2004 0:0010/23/2003 0:009/8/...</td>\n",
       "      <td>ShippedShippedCancelledShippedOn HoldShippedSh...</td>\n",
       "      <td>LargeLargeMediumMediumMediumMediumSmallMediumM...</td>\n",
       "    </tr>\n",
       "    <tr>\n",
       "      <th>Austria</th>\n",
       "      <td>564648</td>\n",
       "      <td>1974</td>\n",
       "      <td>320</td>\n",
       "      <td>202062.53</td>\n",
       "      <td>11/24/2004 0:004/28/2003 0:0010/21/2003 0:0011...</td>\n",
       "      <td>ShippedShippedResolvedShippedShippedResolvedSh...</td>\n",
       "      <td>LargeMediumMediumMediumSmallMediumLargeMediumM...</td>\n",
       "    </tr>\n",
       "    <tr>\n",
       "      <th>Japan</th>\n",
       "      <td>535018</td>\n",
       "      <td>1842</td>\n",
       "      <td>362</td>\n",
       "      <td>188167.81</td>\n",
       "      <td>6/15/2004 0:001/12/2004 0:0011/23/2004 0:001/1...</td>\n",
       "      <td>ShippedShippedShippedShippedShippedShippedShip...</td>\n",
       "      <td>LargeMediumSmallMediumSmallMediumMediumMediumM...</td>\n",
       "    </tr>\n",
       "    <tr>\n",
       "      <th>Switzerland</th>\n",
       "      <td>318029</td>\n",
       "      <td>1078</td>\n",
       "      <td>258</td>\n",
       "      <td>117713.56</td>\n",
       "      <td>2/22/2004 0:008/30/2004 0:002/22/2004 0:008/30...</td>\n",
       "      <td>ShippedShippedShippedShippedShippedShippedShip...</td>\n",
       "      <td>MediumMediumSmallMediumSmallSmallSmallSmallMed...</td>\n",
       "    </tr>\n",
       "    <tr>\n",
       "      <th>Belgium</th>\n",
       "      <td>339687</td>\n",
       "      <td>1074</td>\n",
       "      <td>164</td>\n",
       "      <td>108412.62</td>\n",
       "      <td>7/21/2004 0:0011/22/2004 0:001/10/2005 0:001/1...</td>\n",
       "      <td>ShippedShippedShippedShippedIn ProcessIn Proce...</td>\n",
       "      <td>MediumMediumMediumMediumSmallSmallMediumSmallS...</td>\n",
       "    </tr>\n",
       "    <tr>\n",
       "      <th>Philippines</th>\n",
       "      <td>264236</td>\n",
       "      <td>961</td>\n",
       "      <td>167</td>\n",
       "      <td>94015.73</td>\n",
       "      <td>3/3/2003 0:003/3/2003 0:003/3/2003 0:003/3/200...</td>\n",
       "      <td>ShippedShippedShippedShippedShippedShippedShip...</td>\n",
       "      <td>MediumMediumMediumMediumLargeMediumSmallMedium...</td>\n",
       "    </tr>\n",
       "    <tr>\n",
       "      <th>Ireland</th>\n",
       "      <td>164059</td>\n",
       "      <td>490</td>\n",
       "      <td>73</td>\n",
       "      <td>57756.43</td>\n",
       "      <td>2/12/2004 0:002/12/2004 0:002/12/2004 0:009/16...</td>\n",
       "      <td>ShippedShippedShippedShippedShippedShippedShip...</td>\n",
       "      <td>LargeMediumMediumSmallLargeSmallMediumSmallMed...</td>\n",
       "    </tr>\n",
       "  </tbody>\n",
       "</table>\n",
       "</div>"
      ],
      "text/plain": [
       "             ORDERNUMBER  QUANTITYORDERED  ORDERLINENUMBER       SALES  \\\n",
       "COUNTRY                                                                  \n",
       "USA             10297362            35659             6369  3627982.83   \n",
       "Spain            3513645            12429             2186  1215686.92   \n",
       "France           3223513            11090             2028  1110916.52   \n",
       "Australia        1898841             6246             1181   630623.10   \n",
       "UK               1476792             5013             1027   478880.46   \n",
       "Italy            1158239             3773              890   374674.31   \n",
       "Finland           944808             3192              587   329581.91   \n",
       "Norway            869325             2842              559   307463.70   \n",
       "Singapore         806424             2760              544   288488.41   \n",
       "Denmark           644467             2197              399   245637.15   \n",
       "Canada            719223             2293              415   224078.56   \n",
       "Germany           636423             2148              388   220472.09   \n",
       "Sweden            585642             2006              337   210014.21   \n",
       "Austria           564648             1974              320   202062.53   \n",
       "Japan             535018             1842              362   188167.81   \n",
       "Switzerland       318029             1078              258   117713.56   \n",
       "Belgium           339687             1074              164   108412.62   \n",
       "Philippines       264236              961              167    94015.73   \n",
       "Ireland           164059              490               73    57756.43   \n",
       "\n",
       "                                                     ORDERDATE  \\\n",
       "COUNTRY                                                          \n",
       "USA          2/24/2003 0:008/25/2003 0:0010/10/2003 0:0010/...   \n",
       "Spain        5/13/2005 0:005/28/2003 0:005/31/2005 0:005/13...   \n",
       "France       5/7/2003 0:007/1/2003 0:0011/11/2003 0:001/15/...   \n",
       "Australia    2/20/2004 0:0012/17/2004 0:0011/6/2003 0:007/1...   \n",
       "UK           4/8/2005 0:004/8/2005 0:006/12/2003 0:0011/14/...   \n",
       "Italy        8/17/2004 0:007/6/2004 0:0011/6/2003 0:009/9/2...   \n",
       "Finland      9/30/2004 0:009/30/2004 0:0010/6/2003 0:001/31...   \n",
       "Norway       11/18/2003 0:0010/15/2004 0:001/29/2003 0:0011...   \n",
       "Singapore    9/19/2003 0:009/19/2003 0:002/4/2004 0:006/15/...   \n",
       "Denmark      2/11/2003 0:004/9/2004 0:002/11/2003 0:0010/22...   \n",
       "Canada       12/5/2003 0:005/1/2005 0:006/17/2004 0:008/20/...   \n",
       "Germany      11/20/2003 0:0010/4/2003 0:0010/16/2004 0:003/...   \n",
       "Sweden       3/24/2003 0:009/8/2004 0:0010/23/2003 0:009/8/...   \n",
       "Austria      11/24/2004 0:004/28/2003 0:0010/21/2003 0:0011...   \n",
       "Japan        6/15/2004 0:001/12/2004 0:0011/23/2004 0:001/1...   \n",
       "Switzerland  2/22/2004 0:008/30/2004 0:002/22/2004 0:008/30...   \n",
       "Belgium      7/21/2004 0:0011/22/2004 0:001/10/2005 0:001/1...   \n",
       "Philippines  3/3/2003 0:003/3/2003 0:003/3/2003 0:003/3/200...   \n",
       "Ireland      2/12/2004 0:002/12/2004 0:002/12/2004 0:009/16...   \n",
       "\n",
       "                                                        STATUS  \\\n",
       "COUNTRY                                                          \n",
       "USA          ShippedShippedShippedShippedShippedShippedShip...   \n",
       "Spain        DisputedShippedIn ProcessDisputedDisputedShipp...   \n",
       "France       ShippedShippedShippedShippedShippedShippedShip...   \n",
       "Australia    ShippedShippedShippedShippedShippedShippedShip...   \n",
       "UK           ShippedShippedShippedShippedShippedShippedCanc...   \n",
       "Italy        ShippedShippedShippedShippedShippedShippedShip...   \n",
       "Finland      ShippedShippedShippedShippedShippedShippedShip...   \n",
       "Norway       ShippedShippedShippedShippedShippedShippedShip...   \n",
       "Singapore    ShippedShippedShippedShippedShippedShippedShip...   \n",
       "Denmark      ShippedShippedShippedShippedShippedShippedShip...   \n",
       "Canada       ShippedShippedShippedShippedShippedShippedShip...   \n",
       "Germany      ShippedShippedShippedShippedShippedShippedShip...   \n",
       "Sweden       ShippedShippedCancelledShippedOn HoldShippedSh...   \n",
       "Austria      ShippedShippedResolvedShippedShippedResolvedSh...   \n",
       "Japan        ShippedShippedShippedShippedShippedShippedShip...   \n",
       "Switzerland  ShippedShippedShippedShippedShippedShippedShip...   \n",
       "Belgium      ShippedShippedShippedShippedIn ProcessIn Proce...   \n",
       "Philippines  ShippedShippedShippedShippedShippedShippedShip...   \n",
       "Ireland      ShippedShippedShippedShippedShippedShippedShip...   \n",
       "\n",
       "                                                      DEALSIZE  \n",
       "COUNTRY                                                         \n",
       "USA          SmallMediumMediumMediumSmallSmallMediumMediumM...  \n",
       "Spain        LargeLargeLargeMediumLargeMediumSmallMediumMed...  \n",
       "France       SmallMediumSmallMediumMediumSmallLargeLargeMed...  \n",
       "Australia    MediumSmallLargeMediumMediumSmallSmallMediumSm...  \n",
       "UK           SmallLargeMediumMediumMediumMediumMediumMedium...  \n",
       "Italy        LargeLargeLargeLargeLargeMediumSmallLargeLarge...  \n",
       "Finland      SmallMediumMediumMediumSmallLargeMediumMediumM...  \n",
       "Norway       MediumMediumMediumMediumLargeMediumMediumMediu...  \n",
       "Singapore    LargeMediumLargeMediumMediumLargeMediumMediumM...  \n",
       "Denmark      LargeMediumLargeLargeMediumMediumMediumMediumS...  \n",
       "Canada       LargeMediumMediumSmallMediumMediumMediumSmallM...  \n",
       "Germany      MediumMediumMediumLargeMediumMediumMediumSmall...  \n",
       "Sweden       LargeLargeMediumMediumMediumMediumSmallMediumM...  \n",
       "Austria      LargeMediumMediumMediumSmallMediumLargeMediumM...  \n",
       "Japan        LargeMediumSmallMediumSmallMediumMediumMediumM...  \n",
       "Switzerland  MediumMediumSmallMediumSmallSmallSmallSmallMed...  \n",
       "Belgium      MediumMediumMediumMediumSmallSmallMediumSmallS...  \n",
       "Philippines  MediumMediumMediumMediumLargeMediumSmallMedium...  \n",
       "Ireland      LargeMediumMediumSmallLargeSmallMediumSmallMed...  "
      ]
     },
     "execution_count": 3,
     "metadata": {},
     "output_type": "execute_result"
    }
   ],
   "source": [
    "#CAU5\n",
    "df2=df.groupby('COUNTRY').sum()\n",
    "df2.sort_values(by=['SALES'],ascending=False)"
   ]
  },
  {
   "cell_type": "code",
   "execution_count": 4,
   "id": "716edb1a",
   "metadata": {},
   "outputs": [
    {
     "name": "stdout",
     "output_type": "stream",
     "text": [
      "                     df         sum_sq       mean_sq           F  \\\n",
      "STATUS              5.0    3562.031394    712.406279   10.007876   \n",
      "DEALSIZE            2.0   59596.757162  29798.378581  418.607297   \n",
      "STATUS:DEALSIZE    10.0    4990.552353    499.055235    7.010722   \n",
      "Residual         2806.0  199743.890933     71.184566         NaN   \n",
      "\n",
      "                        PR(>F)  \n",
      "STATUS            1.653628e-09  \n",
      "DEALSIZE         8.014712e-160  \n",
      "STATUS:DEALSIZE   5.933638e-11  \n",
      "Residual                   NaN  \n"
     ]
    }
   ],
   "source": [
    "#CAU6\n",
    "import statsmodels.api as sm\n",
    "from statsmodels.formula.api import ols\n",
    "model = ols(\"QUANTITYORDERED ~ STATUS + DEALSIZE + STATUS:DEALSIZE\",data=df).fit()\n",
    "result = sm.stats.anova_lm(model,type=2)\n",
    "\n",
    "print(result)\n",
    "\n",
    "# 1.645e-09<0.05 => Có phụ thuộc"
   ]
  },
  {
   "cell_type": "code",
   "execution_count": 5,
   "id": "08e59625",
   "metadata": {},
   "outputs": [
    {
     "data": {
      "image/png": "[encoded data removed]",
      "text/plain": [
       "<Figure size 1000x600 with 1 Axes>"
      ]
     },
     "metadata": {},
     "output_type": "display_data"
    }
   ],
   "source": [
    "#CAU7\n",
    "import matplotlib.pyplot as plt\n",
    "import seaborn as sns\n",
    "\n",
    "# Đọc dữ liệu từ tệp CSV và lưu vào DataFrame (df)\n",
    "df = pd.read_csv('sales_data_sample.csv')\n",
    "\n",
    "# Vẽ boxplot theo kích thước đặt hàng (DEALSIZE)\n",
    "plt.figure(figsize=(10, 6))\n",
    "sns.boxplot(x='DEALSIZE', y='SALES', data=df)\n",
    "plt.title('Boxplot of Sales by Deal Size')\n",
    "plt.xticks(rotation=45)\n",
    "\n",
    "# Hiển thị biểu đồ\n",
    "plt.show()\n"
   ]
  },
  {
   "cell_type": "code",
   "execution_count": 9,
   "id": "cc65f8c7",
   "metadata": {},
   "outputs": [
    {
     "name": "stdout",
     "output_type": "stream",
     "text": [
      "Platykurtic\n"
     ]
    }
   ],
   "source": [
    "#CAU8\n",
    "import scipy.stats as stats \n",
    "import numpy as np\n",
    "# Tinh kurtosis\n",
    "kurtosis = stats.kurtosis(df['ORDERLINENUMBER'])\n",
    "# Dựa vào giá trị kurtosis để xác định mức độ\n",
    "if kurtosis < 0:\n",
    "    print (\"Platykurtic\")\n",
    "elif kurtosis == 0:\n",
    "    print (\"Mesokurtic (Normal)\")\n",
    "else:\n",
    "    print (\"Leptokurtic\")\n"
   ]
  },
  {
   "cell_type": "code",
   "execution_count": 12,
   "id": "e332e1ed",
   "metadata": {},
   "outputs": [
    {
     "name": "stdout",
     "output_type": "stream",
     "text": [
      "0.21232496378561083\n"
     ]
    }
   ],
   "source": [
    "#CAU9\n",
    "def absolute_maximum_scale(series):\n",
    "    return series / series.abs().max()\n",
    "for col in df.columns:\n",
    "    df[col] = absolute_maximum_scale(df['SALES'])\n",
    "print(df['SALES'].loc[100])\n"
   ]
  },
  {
   "cell_type": "code",
   "execution_count": null,
   "id": "8dd2140f",
   "metadata": {},
   "outputs": [],
   "source": [
    "#CAU10\n",
    "import matplotlib.pyplot as plt \n",
    "import seaborn as sns \n",
    "import numpy as np\n",
    "\n",
    "gb = df.groupby(['DEALSIZE'])['QUANTITYORDERED'].agg(['sum'])\n",
    "labels = gb.index \n",
    "data = list(gb['sum'])\n",
    "colors = sns.color_palette('pastel')\n",
    "plt.pie(data, labels=labels, colors=colors, autopct='%1.1f%%', shadow=True)\n",
    "plt.show()\n"
   ]
  },
  {
   "cell_type": "code",
   "execution_count": 22,
   "id": "689eabfa",
   "metadata": {},
   "outputs": [
    {
     "name": "stdout",
     "output_type": "stream",
     "text": [
      "Số lượng quốc gia đặt hàng tại công ty ABC là: 19\n"
     ]
    }
   ],
   "source": [
    "#CAu 18\n",
    "import pandas as pd\n",
    "\n",
    "# Đọc dữ liệu từ tệp CSV\n",
    "df = pd.read_csv('sales_data_sample.csv')\n",
    "\n",
    "# Sử dụng phương thức unique() để lấy danh sách các quốc gia đặt hàng và tính số lượng\n",
    "number_of_countries = len(df['COUNTRY'].unique())\n",
    "\n",
    "print(f\"Số lượng quốc gia đặt hàng tại công ty ABC là: {number_of_countries}\")\n"
   ]
  },
  {
   "cell_type": "code",
   "execution_count": 23,
   "id": "ed0193dd",
   "metadata": {},
   "outputs": [
    {
     "name": "stdout",
     "output_type": "stream",
     "text": [
      "Số dòng đặt hàng nhiều nhất trong đơn hàng là: 18\n"
     ]
    }
   ],
   "source": [
    "#Cau 20\n",
    "import pandas as pd\n",
    "\n",
    "# Đọc dữ liệu từ tệp CSV\n",
    "df = pd.read_csv('sales_data_sample.csv')\n",
    "\n",
    "# Sử dụng phương thức groupby() và count() để đếm số dòng đặt hàng cho từng đơn hàng\n",
    "order_line_counts = df.groupby('ORDERNUMBER')['ORDERLINENUMBER'].count()\n",
    "\n",
    "# Tìm số dòng đặt hàng nhiều nhất\n",
    "max_order_lines = order_line_counts.max()\n",
    "\n",
    "print(f\"Số dòng đặt hàng nhiều nhất trong đơn hàng là: {max_order_lines}\")\n"
   ]
  },
  {
   "cell_type": "code",
   "execution_count": 24,
   "id": "2d411253",
   "metadata": {},
   "outputs": [
    {
     "data": {
      "image/png": "[encoded data removed]",
      "text/plain": [
       "<Figure size 640x480 with 1 Axes>"
      ]
     },
     "metadata": {},
     "output_type": "display_data"
    }
   ],
   "source": [
    "#CAU 21\n",
    "import matplotlib.pyplot as plt\n",
    "import seaborn as sns\n",
    "import numpy as np\n",
    "sns.barplot(x='SALES',y='STATUS',hue='DEALSIZE',data=df,errorbar=None)\n",
    "plt.show()"
   ]
  },
  {
   "cell_type": "code",
   "execution_count": 25,
   "id": "5be850f1",
   "metadata": {},
   "outputs": [
    {
     "data": {
      "image/png": "[encoded data removed]",
      "text/plain": [
       "<Figure size 640x480 with 1 Axes>"
      ]
     },
     "metadata": {},
     "output_type": "display_data"
    }
   ],
   "source": [
    "#CAU 22\n",
    "import matplotlib.pyplot as plt\n",
    "import seaborn as sns\n",
    "import numpy as np\n",
    "sns.barplot(x='STATUS',y='SALES',data=df,errorbar=None)\n",
    "plt.show()"
   ]
  },
  {
   "cell_type": "code",
   "execution_count": 27,
   "id": "3be4a8e9",
   "metadata": {},
   "outputs": [
    {
     "name": "stdout",
     "output_type": "stream",
     "text": [
      "0       2871.00\n",
      "1       2765.90\n",
      "2       3884.34\n",
      "3       3746.70\n",
      "4       5205.27\n",
      "         ...   \n",
      "2818    2244.40\n",
      "2819    3978.51\n",
      "2820    5417.57\n",
      "2821    2116.16\n",
      "2822    3079.44\n",
      "Name: SALES, Length: 2823, dtype: float64\n",
      "0       7.962416\n",
      "1       7.925121\n",
      "2       8.264708\n",
      "3       8.228631\n",
      "4       8.557427\n",
      "          ...   \n",
      "2818    7.716194\n",
      "2819    8.288663\n",
      "2820    8.597403\n",
      "2821    7.657358\n",
      "2822    8.032503\n",
      "Name: SALES, Length: 2823, dtype: float64\n"
     ]
    }
   ],
   "source": [
    "#CAU 24\n",
    "import numpy as np \n",
    "log_data = np.log(df['SALES'])\n",
    "print(df['SALES'])\n",
    "print(log_data)"
   ]
  },
  {
   "cell_type": "code",
   "execution_count": 28,
   "id": "d6d1c386",
   "metadata": {},
   "outputs": [
    {
     "name": "stdout",
     "output_type": "stream",
     "text": [
      "Mã hóa đơn của đơn hàng có số dòng đặt hàng nhiều nhất là: [10106, 10159, 10165, 10168, 10222, 10275, 10316, 10332, 10386, 10398]\n"
     ]
    }
   ],
   "source": [
    "# Tìm mã hóa đơn của đơn hàng có số dòng đặt hàng nhiều nhất\n",
    "order_with_max_lines = order_line_counts[order_line_counts == max_order_lines]\n",
    "order_numbers = order_with_max_lines.index.tolist()\n",
    "\n",
    "print(f\"Mã hóa đơn của đơn hàng có số dòng đặt hàng nhiều nhất là: {order_numbers}\")\n"
   ]
  },
  {
   "cell_type": "code",
   "execution_count": 30,
   "id": "1afd141c",
   "metadata": {},
   "outputs": [
    {
     "data": {
      "text/plain": [
       "(2823, 8)"
      ]
     },
     "execution_count": 30,
     "metadata": {},
     "output_type": "execute_result"
    }
   ],
   "source": [
    "df.shape\n"
   ]
  },
  {
   "cell_type": "code",
   "execution_count": 31,
   "id": "9893c243",
   "metadata": {},
   "outputs": [
    {
     "data": {
      "text/html": [
       "<div>\n",
       "<style scoped>\n",
       "    .dataframe tbody tr th:only-of-type {\n",
       "        vertical-align: middle;\n",
       "    }\n",
       "\n",
       "    .dataframe tbody tr th {\n",
       "        vertical-align: top;\n",
       "    }\n",
       "\n",
       "    .dataframe thead th {\n",
       "        text-align: right;\n",
       "    }\n",
       "</style>\n",
       "<table border=\"1\" class=\"dataframe\">\n",
       "  <thead>\n",
       "    <tr style=\"text-align: right;\">\n",
       "      <th></th>\n",
       "      <th>df</th>\n",
       "      <th>sum_sq</th>\n",
       "      <th>mean_sq</th>\n",
       "      <th>F</th>\n",
       "      <th>PR(&gt;F)</th>\n",
       "    </tr>\n",
       "  </thead>\n",
       "  <tbody>\n",
       "    <tr>\n",
       "      <th>STATUS</th>\n",
       "      <td>5.0</td>\n",
       "      <td>376.584835</td>\n",
       "      <td>75.316967</td>\n",
       "      <td>4.241836</td>\n",
       "      <td>0.000762</td>\n",
       "    </tr>\n",
       "    <tr>\n",
       "      <th>Residual</th>\n",
       "      <td>2817.0</td>\n",
       "      <td>50017.934471</td>\n",
       "      <td>17.755745</td>\n",
       "      <td>NaN</td>\n",
       "      <td>NaN</td>\n",
       "    </tr>\n",
       "  </tbody>\n",
       "</table>\n",
       "</div>"
      ],
      "text/plain": [
       "              df        sum_sq    mean_sq         F    PR(>F)\n",
       "STATUS       5.0    376.584835  75.316967  4.241836  0.000762\n",
       "Residual  2817.0  50017.934471  17.755745       NaN       NaN"
      ]
     },
     "execution_count": 31,
     "metadata": {},
     "output_type": "execute_result"
    }
   ],
   "source": [
    "import statsmodels.api as sm\n",
    "from statsmodels.formula.api import ols\n",
    "model = ols('ORDERLINENUMBER ~ STATUS',data=df).fit()\n",
    "aov_table = sm.stats.anova_lm(model,typ=1)\n",
    "aov_table\n",
    "#P_value<0.05 => có phụ thuộc"
   ]
  },
  {
   "cell_type": "code",
   "execution_count": 32,
   "id": "cd339246",
   "metadata": {},
   "outputs": [
    {
     "data": {
      "image/png": "[encoded data removed]",
      "text/plain": [
       "<Figure size 640x480 with 1 Axes>"
      ]
     },
     "metadata": {},
     "output_type": "display_data"
    }
   ],
   "source": [
    "import matplotlib.pyplot as plt\n",
    "\n",
    "X = df['QUANTITYORDERED']\n",
    "Y = df['SALES']\n",
    "\n",
    "plt.scatter(X,Y)\n",
    "\n",
    "plt.xlabel('QUANTITYORDERED')\n",
    "plt.ylabel('SALES')\n",
    "\n",
    "plt.title(\"Bieu Do Scatterplot cua hai du lieu dinh luong\")\n",
    "\n",
    "plt.show()"
   ]
  },
  {
   "cell_type": "code",
   "execution_count": 33,
   "id": "25696f33",
   "metadata": {},
   "outputs": [
    {
     "data": {
      "text/plain": [
       "ORDERNUMBER        103\n",
       "QUANTITYORDERED    103\n",
       "ORDERLINENUMBER    103\n",
       "SALES              103\n",
       "ORDERDATE          103\n",
       "STATUS             103\n",
       "COUNTRY            103\n",
       "DEALSIZE           103\n",
       "dtype: int64"
      ]
     },
     "execution_count": 33,
     "metadata": {},
     "output_type": "execute_result"
    }
   ],
   "source": [
    "df[df['QUANTITYORDERED']==21].count()"
   ]
  },
  {
   "cell_type": "code",
   "execution_count": 35,
   "id": "160d8421",
   "metadata": {},
   "outputs": [
    {
     "name": "stdout",
     "output_type": "stream",
     "text": [
      "Gia tri chi_square 34.344354882679596\n",
      "Gia tri p-value 0.0001614574648411617\n",
      "Bac tu do 10\n",
      "Gia tri du kien [[3.33687566e+00 2.94155154e+01 2.72476089e+01]\n",
      " [7.78604322e-01 6.86362026e+00 6.35777542e+00]\n",
      " [2.28019837e+00 2.01006022e+01 1.86191994e+01]\n",
      " [2.44704215e+00 2.15713780e+01 1.99815799e+01]\n",
      " [2.61388594e+00 2.30421537e+01 2.13439603e+01]\n",
      " [1.45543394e+02 1.28300673e+03 1.18844988e+03]]\n"
     ]
    }
   ],
   "source": [
    "from scipy.stats import chi2_contingency\n",
    "contingency_table = pd.crosstab(df['STATUS'],df['DEALSIZE'])\n",
    "chi2,p,dof,expected = chi2_contingency(contingency_table)\n",
    "\n",
    "print(\"Gia tri chi_square\",chi2)\n",
    "print(\"Gia tri p-value\",p)\n",
    "print(\"Bac tu do\",dof)\n",
    "print(\"Gia tri du kien\",expected)\n"
   ]
  },
  {
   "cell_type": "code",
   "execution_count": 38,
   "id": "6dadc274",
   "metadata": {},
   "outputs": [
    {
     "name": "stdout",
     "output_type": "stream",
     "text": [
      "50    0.571492\n",
      "51    0.142230\n",
      "52    0.268965\n",
      "53    0.846934\n",
      "54    0.251044\n",
      "55    0.169972\n",
      "56    0.207757\n",
      "57    0.346367\n",
      "58    0.333417\n",
      "59    0.233724\n",
      "Name: SALES, dtype: float64\n"
     ]
    }
   ],
   "source": [
    "def min_max_scaling(series):\n",
    "    return (series-series.min()) / (series.max()-series.min())\n",
    "for col in df.columns:\n",
    "    df[col] = min_max_scaling(df['SALES'])\n",
    "print(df['SALES'].loc[50:59])"
   ]
  },
  {
   "cell_type": "code",
   "execution_count": 39,
   "id": "f7413aec",
   "metadata": {},
   "outputs": [
    {
     "name": "stdout",
     "output_type": "stream",
     "text": [
      "gia tri cua 10000 la: 73840.16767409953\n"
     ]
    }
   ],
   "source": [
    "value = 10000\n",
    "mean =df['SALES'].mean()\n",
    "\n",
    "std = df['SALES'].std()\n",
    "\n",
    "zscore = (value - mean) / std\n",
    "\n",
    "print(\"gia tri cua\",value,\"la:\",zscore)"
   ]
  },
  {
   "cell_type": "code",
   "execution_count": null,
   "id": "7c3971bc",
   "metadata": {},
   "outputs": [],
   "source": [
    "ssss"
   ]
  }
 ],
 "metadata": {
  "kernelspec": {
   "display_name": "Python 3 (ipykernel)",
   "language": "python",
   "name": "python3"
  },
  "language_info": {
   "codemirror_mode": {
    "name": "ipython",
    "version": 3
   },
   "file_extension": ".py",
   "mimetype": "text/x-python",
   "name": "python",
   "nbconvert_exporter": "python",
   "pygments_lexer": "ipython3",
   "version": "3.10.9"
  }
 },
 "nbformat": 4,
 "nbformat_minor": 5
}
