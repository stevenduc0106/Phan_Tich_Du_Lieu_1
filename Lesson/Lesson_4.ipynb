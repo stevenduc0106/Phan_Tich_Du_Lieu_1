{
 "cells": [
  {
   "cell_type": "code",
   "execution_count": null,
   "id": "4382226c",
   "metadata": {},
   "outputs": [],
   "source": [
    "Phân tích suy diễn \n",
    "\n",
    "Tính toán => kết quả trên sample(tập mẫu) => kết luận => Population ( từ những kết luận liệu kết luận đó có phù hợp \n",
    "                                                                      với Population (tổng thể không) )\n",
    "Bước 1: xác định được Ho\n",
    "Bước 2: Điều kiện ( - Số lượng mẫu đạt được ít nhất là bao nhiêu\n",
    "                    - Sự phân phối của số liệu (\n",
    "                                                + Phân phối normal\n",
    "                                                + Phân phối student\n",
    "                                             )\n",
    "                  )\n",
    "\n",
    "Từ B1 và B2 => Chạy mô hình suy diễn có 2 thông số cần thiết lập : (\n",
    "                                        - Độ tin cậy           ( 90% 95% 99%)\n",
    "                                        - Mức sai lần (anpha)  ( 10%  5%  1%)\n",
    "                                     )\n",
    "=> sau khi chạy mô hình xong trả về p-value \n",
    "   nếu p-value < giá trị anpha => Reject Ho\n",
    "   nếu p-value > anpha => Accept Ho\n",
    "\n",
    "Các dạng toán: \n",
    "    1.One Sample T-test ( n < 30 )\n",
    "      Ho: Trung bình = x\n",
    "      Điều kiện: n (số lượng mẫu) < 30\n",
    "    2.Two Sample T-test ( n < 30 )\n",
    "        Ho: trung bình x = trung bình y\n",
    "    3.One Sample Z-test ( n >= 30 )\n",
    "    4.Two Sample Z-test ( n >= 30 )\n",
    "    5.Kiểm định tương quan ( định lượng + định lượng)\n",
    "     -   < 0.5         -> tương quan yếu\n",
    "     -   0.5 - 0.65    -> tương quan bình thường\n",
    "     -   0.65 - 0.75   -> tương quan mạnh\n",
    "     -   0.75 - 0.85   -> tương quan tốt\n",
    "     -   0.85 - 0.95   -> tương quan rất tốt\n",
    "          ... (hình trong đt)\n",
    "       giá trị tương quan trên mẫu (n peanson) =  -> Ho: n = 0\n",
    "    6.Kiểm định Fisher Test ( định tính + định tính )\n",
    "      Ho: các biến số là độc lập\n",
    "      => cnosstab\n",
    "    7.Kiểm định Chi-square ( định tính + định tính )\n",
    "    8.Anova( One way ) (định tính + định lượng)\n",
    "    9.Anova( Two way )  (nhóm,phânloại)  "
   ]
  },
  {
   "cell_type": "code",
   "execution_count": 1,
   "id": "3aa4bebe",
   "metadata": {},
   "outputs": [],
   "source": [
    "import pandas as pd\n",
    "import seaborn as sns\n",
    "#Tai Du Lieu Len Data Frame, dat ten la df\n",
    "df = pd.read_csv('dulieuxettuyendaihoc.csv',header = 0, delimiter = ',', encoding = 'utf-8')"
   ]
  },
  {
   "cell_type": "code",
   "execution_count": 2,
   "id": "34bade3f",
   "metadata": {},
   "outputs": [],
   "source": [
    "df = df[['T5','T6','GT','DT','KV','KT','NGONNGU','TOANLOGICPHANTICH','GIAIQUYETVANDE','NGAYTHI','DINHHUONGNGHENGHIEP']]"
   ]
  },
  {
   "cell_type": "code",
   "execution_count": 3,
   "id": "2568aa68",
   "metadata": {},
   "outputs": [
    {
     "name": "stdout",
     "output_type": "stream",
     "text": [
      "<class 'pandas.core.frame.DataFrame'>\n",
      "RangeIndex: 100 entries, 0 to 99\n",
      "Data columns (total 11 columns):\n",
      " #   Column               Non-Null Count  Dtype  \n",
      "---  ------               --------------  -----  \n",
      " 0   T5                   100 non-null    float64\n",
      " 1   T6                   100 non-null    float64\n",
      " 2   GT                   100 non-null    object \n",
      " 3   DT                   3 non-null      float64\n",
      " 4   KV                   100 non-null    object \n",
      " 5   KT                   100 non-null    object \n",
      " 6   NGONNGU              100 non-null    float64\n",
      " 7   TOANLOGICPHANTICH    100 non-null    float64\n",
      " 8   GIAIQUYETVANDE       100 non-null    float64\n",
      " 9   NGAYTHI              100 non-null    object \n",
      " 10  DINHHUONGNGHENGHIEP  100 non-null    object \n",
      "dtypes: float64(6), object(5)\n",
      "memory usage: 8.7+ KB\n"
     ]
    }
   ],
   "source": [
    "df.info()"
   ]
  },
  {
   "cell_type": "code",
   "execution_count": 4,
   "id": "b8843bd0",
   "metadata": {},
   "outputs": [
    {
     "data": {
      "text/html": [
       "<div>\n",
       "<style scoped>\n",
       "    .dataframe tbody tr th:only-of-type {\n",
       "        vertical-align: middle;\n",
       "    }\n",
       "\n",
       "    .dataframe tbody tr th {\n",
       "        vertical-align: top;\n",
       "    }\n",
       "\n",
       "    .dataframe thead th {\n",
       "        text-align: right;\n",
       "    }\n",
       "</style>\n",
       "<table border=\"1\" class=\"dataframe\">\n",
       "  <thead>\n",
       "    <tr style=\"text-align: right;\">\n",
       "      <th></th>\n",
       "      <th>T5</th>\n",
       "      <th>T6</th>\n",
       "      <th>GT</th>\n",
       "      <th>DT</th>\n",
       "      <th>KV</th>\n",
       "      <th>KT</th>\n",
       "      <th>NGONNGU</th>\n",
       "      <th>LOGIC</th>\n",
       "      <th>UNGXU</th>\n",
       "      <th>NGAYTHI</th>\n",
       "      <th>HUONGNGHIEP</th>\n",
       "    </tr>\n",
       "  </thead>\n",
       "  <tbody>\n",
       "    <tr>\n",
       "      <th>0</th>\n",
       "      <td>7.4</td>\n",
       "      <td>6.9</td>\n",
       "      <td>F</td>\n",
       "      <td>NaN</td>\n",
       "      <td>2NT</td>\n",
       "      <td>A1</td>\n",
       "      <td>3.25</td>\n",
       "      <td>3.25</td>\n",
       "      <td>4.50</td>\n",
       "      <td>12/7/2018</td>\n",
       "      <td>No</td>\n",
       "    </tr>\n",
       "    <tr>\n",
       "      <th>1</th>\n",
       "      <td>3.0</td>\n",
       "      <td>4.0</td>\n",
       "      <td>M</td>\n",
       "      <td>NaN</td>\n",
       "      <td>1</td>\n",
       "      <td>C</td>\n",
       "      <td>6.00</td>\n",
       "      <td>4.00</td>\n",
       "      <td>3.50</td>\n",
       "      <td>12/7/2018</td>\n",
       "      <td>Yes</td>\n",
       "    </tr>\n",
       "    <tr>\n",
       "      <th>2</th>\n",
       "      <td>4.8</td>\n",
       "      <td>5.7</td>\n",
       "      <td>M</td>\n",
       "      <td>NaN</td>\n",
       "      <td>1</td>\n",
       "      <td>C</td>\n",
       "      <td>5.00</td>\n",
       "      <td>6.75</td>\n",
       "      <td>4.00</td>\n",
       "      <td>12/7/2018</td>\n",
       "      <td>No</td>\n",
       "    </tr>\n",
       "    <tr>\n",
       "      <th>3</th>\n",
       "      <td>6.1</td>\n",
       "      <td>7.4</td>\n",
       "      <td>M</td>\n",
       "      <td>NaN</td>\n",
       "      <td>1</td>\n",
       "      <td>D1</td>\n",
       "      <td>4.25</td>\n",
       "      <td>4.25</td>\n",
       "      <td>5.25</td>\n",
       "      <td>12/7/2018</td>\n",
       "      <td>No</td>\n",
       "    </tr>\n",
       "    <tr>\n",
       "      <th>4</th>\n",
       "      <td>6.8</td>\n",
       "      <td>8.0</td>\n",
       "      <td>M</td>\n",
       "      <td>NaN</td>\n",
       "      <td>2NT</td>\n",
       "      <td>A</td>\n",
       "      <td>4.25</td>\n",
       "      <td>4.50</td>\n",
       "      <td>5.00</td>\n",
       "      <td>12/7/2018</td>\n",
       "      <td>No</td>\n",
       "    </tr>\n",
       "    <tr>\n",
       "      <th>5</th>\n",
       "      <td>8.5</td>\n",
       "      <td>7.8</td>\n",
       "      <td>M</td>\n",
       "      <td>NaN</td>\n",
       "      <td>1</td>\n",
       "      <td>D1</td>\n",
       "      <td>1.50</td>\n",
       "      <td>4.00</td>\n",
       "      <td>6.00</td>\n",
       "      <td>12/7/2018</td>\n",
       "      <td>No</td>\n",
       "    </tr>\n",
       "    <tr>\n",
       "      <th>6</th>\n",
       "      <td>5.4</td>\n",
       "      <td>5.3</td>\n",
       "      <td>F</td>\n",
       "      <td>NaN</td>\n",
       "      <td>2</td>\n",
       "      <td>C</td>\n",
       "      <td>6.50</td>\n",
       "      <td>6.75</td>\n",
       "      <td>5.25</td>\n",
       "      <td>12/7/2018</td>\n",
       "      <td>Yes</td>\n",
       "    </tr>\n",
       "    <tr>\n",
       "      <th>7</th>\n",
       "      <td>8.5</td>\n",
       "      <td>8.3</td>\n",
       "      <td>F</td>\n",
       "      <td>NaN</td>\n",
       "      <td>2</td>\n",
       "      <td>D1</td>\n",
       "      <td>3.75</td>\n",
       "      <td>4.50</td>\n",
       "      <td>4.25</td>\n",
       "      <td>12/7/2018</td>\n",
       "      <td>Yes</td>\n",
       "    </tr>\n",
       "    <tr>\n",
       "      <th>8</th>\n",
       "      <td>7.7</td>\n",
       "      <td>7.7</td>\n",
       "      <td>F</td>\n",
       "      <td>NaN</td>\n",
       "      <td>1</td>\n",
       "      <td>D1</td>\n",
       "      <td>3.50</td>\n",
       "      <td>3.50</td>\n",
       "      <td>6.75</td>\n",
       "      <td>12/7/2018</td>\n",
       "      <td>Yes</td>\n",
       "    </tr>\n",
       "    <tr>\n",
       "      <th>9</th>\n",
       "      <td>7.5</td>\n",
       "      <td>6.9</td>\n",
       "      <td>F</td>\n",
       "      <td>NaN</td>\n",
       "      <td>1</td>\n",
       "      <td>D1</td>\n",
       "      <td>4.00</td>\n",
       "      <td>4.75</td>\n",
       "      <td>5.50</td>\n",
       "      <td>12/7/2018</td>\n",
       "      <td>Yes</td>\n",
       "    </tr>\n",
       "  </tbody>\n",
       "</table>\n",
       "</div>"
      ],
      "text/plain": [
       "    T5   T6 GT  DT   KV  KT  NGONNGU  LOGIC  UNGXU    NGAYTHI HUONGNGHIEP\n",
       "0  7.4  6.9  F NaN  2NT  A1     3.25   3.25   4.50  12/7/2018          No\n",
       "1  3.0  4.0  M NaN    1   C     6.00   4.00   3.50  12/7/2018         Yes\n",
       "2  4.8  5.7  M NaN    1   C     5.00   6.75   4.00  12/7/2018          No\n",
       "3  6.1  7.4  M NaN    1  D1     4.25   4.25   5.25  12/7/2018          No\n",
       "4  6.8  8.0  M NaN  2NT   A     4.25   4.50   5.00  12/7/2018          No\n",
       "5  8.5  7.8  M NaN    1  D1     1.50   4.00   6.00  12/7/2018          No\n",
       "6  5.4  5.3  F NaN    2   C     6.50   6.75   5.25  12/7/2018         Yes\n",
       "7  8.5  8.3  F NaN    2  D1     3.75   4.50   4.25  12/7/2018         Yes\n",
       "8  7.7  7.7  F NaN    1  D1     3.50   3.50   6.75  12/7/2018         Yes\n",
       "9  7.5  6.9  F NaN    1  D1     4.00   4.75   5.50  12/7/2018         Yes"
      ]
     },
     "execution_count": 4,
     "metadata": {},
     "output_type": "execute_result"
    }
   ],
   "source": [
    "df.rename(columns={'TOANLOGICPHANTICH': 'LOGIC', \n",
    "                   'GIAIQUYETVANDE': 'UNGXU', \n",
    "                   'DINHHUONGNGHENGHIEP': 'HUONGNGHIEP'}, inplace=True)\n",
    "df.head(10)"
   ]
  },
  {
   "cell_type": "code",
   "execution_count": 5,
   "id": "5f3af31a",
   "metadata": {},
   "outputs": [
    {
     "data": {
      "text/html": [
       "<div>\n",
       "<style scoped>\n",
       "    .dataframe tbody tr th:only-of-type {\n",
       "        vertical-align: middle;\n",
       "    }\n",
       "\n",
       "    .dataframe tbody tr th {\n",
       "        vertical-align: top;\n",
       "    }\n",
       "\n",
       "    .dataframe thead th {\n",
       "        text-align: right;\n",
       "    }\n",
       "</style>\n",
       "<table border=\"1\" class=\"dataframe\">\n",
       "  <thead>\n",
       "    <tr style=\"text-align: right;\">\n",
       "      <th></th>\n",
       "      <th>T5</th>\n",
       "      <th>T6</th>\n",
       "      <th>GT</th>\n",
       "      <th>DT</th>\n",
       "      <th>KV</th>\n",
       "      <th>KT</th>\n",
       "      <th>NGONNGU</th>\n",
       "      <th>LOGIC</th>\n",
       "      <th>UNGXU</th>\n",
       "      <th>NGAYTHI</th>\n",
       "      <th>HUONGNGHIEP</th>\n",
       "    </tr>\n",
       "  </thead>\n",
       "  <tbody>\n",
       "    <tr>\n",
       "      <th>0</th>\n",
       "      <td>7.4</td>\n",
       "      <td>6.9</td>\n",
       "      <td>F</td>\n",
       "      <td>NaN</td>\n",
       "      <td>2NT</td>\n",
       "      <td>A1</td>\n",
       "      <td>3.25</td>\n",
       "      <td>3.25</td>\n",
       "      <td>4.50</td>\n",
       "      <td>12/7/2018</td>\n",
       "      <td>No</td>\n",
       "    </tr>\n",
       "    <tr>\n",
       "      <th>1</th>\n",
       "      <td>3.0</td>\n",
       "      <td>4.0</td>\n",
       "      <td>M</td>\n",
       "      <td>NaN</td>\n",
       "      <td>1</td>\n",
       "      <td>C</td>\n",
       "      <td>6.00</td>\n",
       "      <td>4.00</td>\n",
       "      <td>3.50</td>\n",
       "      <td>12/7/2018</td>\n",
       "      <td>Yes</td>\n",
       "    </tr>\n",
       "    <tr>\n",
       "      <th>2</th>\n",
       "      <td>4.8</td>\n",
       "      <td>5.7</td>\n",
       "      <td>M</td>\n",
       "      <td>NaN</td>\n",
       "      <td>1</td>\n",
       "      <td>C</td>\n",
       "      <td>5.00</td>\n",
       "      <td>6.75</td>\n",
       "      <td>4.00</td>\n",
       "      <td>12/7/2018</td>\n",
       "      <td>No</td>\n",
       "    </tr>\n",
       "    <tr>\n",
       "      <th>3</th>\n",
       "      <td>6.1</td>\n",
       "      <td>7.4</td>\n",
       "      <td>M</td>\n",
       "      <td>NaN</td>\n",
       "      <td>1</td>\n",
       "      <td>D1</td>\n",
       "      <td>4.25</td>\n",
       "      <td>4.25</td>\n",
       "      <td>5.25</td>\n",
       "      <td>12/7/2018</td>\n",
       "      <td>No</td>\n",
       "    </tr>\n",
       "    <tr>\n",
       "      <th>4</th>\n",
       "      <td>6.8</td>\n",
       "      <td>8.0</td>\n",
       "      <td>M</td>\n",
       "      <td>NaN</td>\n",
       "      <td>2NT</td>\n",
       "      <td>A</td>\n",
       "      <td>4.25</td>\n",
       "      <td>4.50</td>\n",
       "      <td>5.00</td>\n",
       "      <td>12/7/2018</td>\n",
       "      <td>No</td>\n",
       "    </tr>\n",
       "    <tr>\n",
       "      <th>...</th>\n",
       "      <td>...</td>\n",
       "      <td>...</td>\n",
       "      <td>...</td>\n",
       "      <td>...</td>\n",
       "      <td>...</td>\n",
       "      <td>...</td>\n",
       "      <td>...</td>\n",
       "      <td>...</td>\n",
       "      <td>...</td>\n",
       "      <td>...</td>\n",
       "      <td>...</td>\n",
       "    </tr>\n",
       "    <tr>\n",
       "      <th>95</th>\n",
       "      <td>7.9</td>\n",
       "      <td>6.6</td>\n",
       "      <td>F</td>\n",
       "      <td>NaN</td>\n",
       "      <td>1</td>\n",
       "      <td>C</td>\n",
       "      <td>5.25</td>\n",
       "      <td>1.50</td>\n",
       "      <td>6.25</td>\n",
       "      <td>7/20/2022</td>\n",
       "      <td>Yes</td>\n",
       "    </tr>\n",
       "    <tr>\n",
       "      <th>96</th>\n",
       "      <td>5.5</td>\n",
       "      <td>5.7</td>\n",
       "      <td>F</td>\n",
       "      <td>NaN</td>\n",
       "      <td>1</td>\n",
       "      <td>C</td>\n",
       "      <td>5.25</td>\n",
       "      <td>3.75</td>\n",
       "      <td>4.75</td>\n",
       "      <td>7/20/2022</td>\n",
       "      <td>No</td>\n",
       "    </tr>\n",
       "    <tr>\n",
       "      <th>97</th>\n",
       "      <td>9.0</td>\n",
       "      <td>8.5</td>\n",
       "      <td>M</td>\n",
       "      <td>NaN</td>\n",
       "      <td>2NT</td>\n",
       "      <td>C</td>\n",
       "      <td>7.00</td>\n",
       "      <td>8.00</td>\n",
       "      <td>4.00</td>\n",
       "      <td>7/20/2022</td>\n",
       "      <td>Yes</td>\n",
       "    </tr>\n",
       "    <tr>\n",
       "      <th>98</th>\n",
       "      <td>4.1</td>\n",
       "      <td>4.3</td>\n",
       "      <td>M</td>\n",
       "      <td>NaN</td>\n",
       "      <td>1</td>\n",
       "      <td>C</td>\n",
       "      <td>5.00</td>\n",
       "      <td>3.50</td>\n",
       "      <td>5.50</td>\n",
       "      <td>7/20/2022</td>\n",
       "      <td>No</td>\n",
       "    </tr>\n",
       "    <tr>\n",
       "      <th>99</th>\n",
       "      <td>5.6</td>\n",
       "      <td>5.1</td>\n",
       "      <td>M</td>\n",
       "      <td>NaN</td>\n",
       "      <td>2NT</td>\n",
       "      <td>C</td>\n",
       "      <td>5.25</td>\n",
       "      <td>2.50</td>\n",
       "      <td>4.25</td>\n",
       "      <td>7/20/2022</td>\n",
       "      <td>Yes</td>\n",
       "    </tr>\n",
       "  </tbody>\n",
       "</table>\n",
       "<p>100 rows × 11 columns</p>\n",
       "</div>"
      ],
      "text/plain": [
       "     T5   T6 GT  DT   KV  KT  NGONNGU  LOGIC  UNGXU    NGAYTHI HUONGNGHIEP\n",
       "0   7.4  6.9  F NaN  2NT  A1     3.25   3.25   4.50  12/7/2018          No\n",
       "1   3.0  4.0  M NaN    1   C     6.00   4.00   3.50  12/7/2018         Yes\n",
       "2   4.8  5.7  M NaN    1   C     5.00   6.75   4.00  12/7/2018          No\n",
       "3   6.1  7.4  M NaN    1  D1     4.25   4.25   5.25  12/7/2018          No\n",
       "4   6.8  8.0  M NaN  2NT   A     4.25   4.50   5.00  12/7/2018          No\n",
       "..  ...  ... ..  ..  ...  ..      ...    ...    ...        ...         ...\n",
       "95  7.9  6.6  F NaN    1   C     5.25   1.50   6.25  7/20/2022         Yes\n",
       "96  5.5  5.7  F NaN    1   C     5.25   3.75   4.75  7/20/2022          No\n",
       "97  9.0  8.5  M NaN  2NT   C     7.00   8.00   4.00  7/20/2022         Yes\n",
       "98  4.1  4.3  M NaN    1   C     5.00   3.50   5.50  7/20/2022          No\n",
       "99  5.6  5.1  M NaN  2NT   C     5.25   2.50   4.25  7/20/2022         Yes\n",
       "\n",
       "[100 rows x 11 columns]"
      ]
     },
     "execution_count": 5,
     "metadata": {},
     "output_type": "execute_result"
    }
   ],
   "source": [
    "# Xoa Bo Cac Dong Du Lieu Rong\n",
    "df.dropna(how='all')\n",
    "#Xoa bo cac dong bi trung\n",
    "df.drop_duplicates()\n"
   ]
  },
  {
   "cell_type": "code",
   "execution_count": 7,
   "id": "643eb320",
   "metadata": {},
   "outputs": [
    {
     "data": {
      "text/plain": [
       "TtestResult(statistic=0.44599723713991907, pvalue=0.6629370899710998, df=13)"
      ]
     },
     "execution_count": 7,
     "metadata": {},
     "output_type": "execute_result"
    }
   ],
   "source": [
    "# ONE SAMPLE T-TEST\n",
    "# Mục đích: Kiểm định trung bình của một biến số (định lượng) có bằng một giá trị\n",
    "# Ho: mean = x\n",
    "#1.One Sample T-test\n",
    "#       Ho: Trung bình = x\n",
    "#       Điều kiện: n (số lượng mẫu) < 30\n",
    "#       Ho: điểm tb logic khối c = 4.0\n",
    "#       p-value = 0.66 > anpha (0.05)\n",
    "#       => chấp nhận Ho\n",
    "# Câu 1: Hãy kiểm tra xem LOGIC thí sinh khối C có bằng 4.0\n",
    "dfKhoiC = df.loc[df['KT'] == 'C']\n",
    "dfKhoiC['LOGIC']\n",
    "dfKhoiC['LOGIC'].describe()\n",
    "import scipy.stats as stats\n",
    "# Với one sample T-test thì giả thiết Ho: muy = 4.0\n",
    "# Mặc định mức tin cậy là 95% và mức sai lầm là 5%\n",
    "stats.ttest_1samp(dfKhoiC['LOGIC'], popmean=4.0)"
   ]
  },
  {
   "cell_type": "code",
   "execution_count": 8,
   "id": "5d9244fd",
   "metadata": {},
   "outputs": [
    {
     "data": {
      "text/plain": [
       "TtestResult(statistic=-4.357049932059217, pvalue=0.0007768157239033906, df=13)"
      ]
     },
     "execution_count": 8,
     "metadata": {},
     "output_type": "execute_result"
    }
   ],
   "source": [
    "# Bài tập tương tự: Hãy kiểm tra xem có phải điểm NGONNGU\n",
    "# của thí sinh thi khối C có là 6.5 hay không\n",
    "# Ho: trung bình ngôn ngữ khối C = 6.5\n",
    "# p-value = 0.001 < anpha(0.05)\n",
    "# => không chấp nhận Ho\n",
    "stats.ttest_1samp(dfKhoiC['LOGIC'], popmean=6.5)"
   ]
  },
  {
   "cell_type": "code",
   "execution_count": 9,
   "id": "1520158b",
   "metadata": {},
   "outputs": [
    {
     "data": {
      "text/plain": [
       "Ttest_indResult(statistic=-1.0329196014245297, pvalue=0.3111543826061086)"
      ]
     },
     "execution_count": 9,
     "metadata": {},
     "output_type": "execute_result"
    }
   ],
   "source": [
    "#     2.Two Sample T-test ( n < 30)\n",
    "#         Ho: trung bình x = trung bình y\n",
    "#         Ho: trung bình điểm logic khối C = trung bình điểm NGONNGU khối C\n",
    "#         p-value = 0.31 > (0.05)\n",
    "#         => chấp nhận Ho\n",
    "# Câu 2: Hãy kiểm tra xem trung bình điểm thi LOGIC và\n",
    "# trung bình điểm thi UNGXU của thí sinh thi khối C có bằng nhau không?\n",
    "# Ho: mean_LOGIC - mean_UNGXU = 0\n",
    "dfKhoiC = df.loc[df['KT'] == 'C']\n",
    "stats.ttest_ind(dfKhoiC['LOGIC'], dfKhoiC['UNGXU'], equal_var=True)\n",
    "\n"
   ]
  },
  {
   "cell_type": "code",
   "execution_count": 10,
   "id": "37f8de5d",
   "metadata": {},
   "outputs": [
    {
     "data": {
      "text/plain": [
       "Ttest_indResult(statistic=2.6321295849540447, pvalue=0.014085909192033954)"
      ]
     },
     "execution_count": 10,
     "metadata": {},
     "output_type": "execute_result"
    }
   ],
   "source": [
    "#         Ho: trung bình điểm logic khối C = trung bình điểm NGONNGU khối C\n",
    "#         p-value = 0.01 < (0.05)\n",
    "#         =>không chấp nhận Ho\n",
    "# Kiểm tra xem trung bình UNGXU có bằng trung bình NGONNGU cho\n",
    "dfKhoiC = df.loc[df['KT'] == 'C']\n",
    "stats.ttest_ind(dfKhoiC['NGONNGU'], dfKhoiC['UNGXU'], equal_var=True)"
   ]
  },
  {
   "cell_type": "code",
   "execution_count": 15,
   "id": "08cc80b5",
   "metadata": {},
   "outputs": [
    {
     "data": {
      "text/plain": [
       "(-7.797828845339864, 6.298135014120743e-15)"
      ]
     },
     "execution_count": 15,
     "metadata": {},
     "output_type": "execute_result"
    }
   ],
   "source": [
    "# 3.One Sample Z-test ( n >= 30 )\n",
    "# Ho: trung bình điểm toán học kì 2 lớp 12 =  8.0\n",
    "# p-value: 6.29 * 10^15\n",
    "from statsmodels.stats.weightstats import ztest as ztest\n",
    "# Hãy kiểm tra xem trung bình điểm toán học kì 2 lớp 12 có bằng 8.0\n",
    "ztest(df['T6'], value=8.0)\n",
    "#Note: e-15 = 10^-15"
   ]
  },
  {
   "cell_type": "code",
   "execution_count": 16,
   "id": "791e833b",
   "metadata": {},
   "outputs": [
    {
     "data": {
      "text/plain": [
       "(-1.094138573502891, 0.273894207026412)"
      ]
     },
     "execution_count": 16,
     "metadata": {},
     "output_type": "execute_result"
    }
   ],
   "source": [
    "# Ho: điểm trung bình toán học kì 1 = điểm trung bình toán học kì 2 \n",
    "# p-value = 0.27 > 0.05\n",
    "# => chấp nhận Ho\n",
    "# Hãy kiểm tra xem điểm trung bình toán học kì 1\n",
    "# và học kì 2 năm lớp 12 có bằng nhau không\n",
    "ztest(df['T5'], df['T6'], value=0)\n"
   ]
  },
  {
   "cell_type": "code",
   "execution_count": 18,
   "id": "3aca7afb",
   "metadata": {},
   "outputs": [
    {
     "name": "stderr",
     "output_type": "stream",
     "text": [
      "/var/folders/nn/jznr73254x75wkjtt756z8_c0000gn/T/ipykernel_41669/2671023846.py:2: DeprecationWarning: Please use `pearsonr` from the `scipy.stats` namespace, the `scipy.stats.stats` namespace is deprecated.\n",
      "  from scipy.stats.stats import pearsonr\n"
     ]
    },
    {
     "data": {
      "text/plain": [
       "PearsonRResult(statistic=0.7786831657869807, pvalue=1.484640721627447e-21)"
      ]
     },
     "execution_count": 18,
     "metadata": {},
     "output_type": "execute_result"
    }
   ],
   "source": [
    "#5.Kiểm định tương quan ( định lượng + định lượng) (bác bỏ -> có tương quan và ngược lại )\n",
    "#  giá trị tương quan trên mẫu (n peanson) = 0.77 -> Ho: n =  0 \n",
    "#                                                     p-value = 1.48 * 10^-21\n",
    "#                                                    => không chấp nhận Ho\n",
    "from scipy.stats.stats import pearsonr\n",
    "# Câu 5: Kiểm tra xem điểm toán học kì 1 và học kì 2 năm lớp 12 có tương quan không?\n",
    "pearsonr(df['T5'], df['T6'])\n",
    "\n",
    "\n"
   ]
  },
  {
   "cell_type": "code",
   "execution_count": 19,
   "id": "1074dfae",
   "metadata": {},
   "outputs": [
    {
     "data": {
      "text/plain": [
       "PearsonRResult(statistic=0.3014895536189789, pvalue=0.0023017763060122327)"
      ]
     },
     "execution_count": 19,
     "metadata": {},
     "output_type": "execute_result"
    }
   ],
   "source": [
    "# Sinh viên làm tương tự cho T6 và LOGIC có tương quan hay không?\n",
    "#  giá trị tương quan trên mẫu (n peanson) = 0.3 -> Ho: n =  0 \n",
    "#                                                     p-value = 0.002 < 0.05\n",
    "#                                                    => không chấp nhận Ho\n",
    "pearsonr(df['T6'], df['LOGIC'])"
   ]
  },
  {
   "cell_type": "code",
   "execution_count": 20,
   "id": "4a0ef9a4",
   "metadata": {},
   "outputs": [
    {
     "data": {
      "text/plain": [
       "PearsonRResult(statistic=0.18464661226012738, pvalue=0.06590059130545517)"
      ]
     },
     "execution_count": 20,
     "metadata": {},
     "output_type": "execute_result"
    }
   ],
   "source": [
    "# Sinh viên làm tương tự cho T5 và LOGIC có tương quan hay không?\n",
    "#  giá trị tương quan trên mẫu (n peanson) = 0.18 -> Ho: n =  0 \n",
    "#                                                     p-value = 0.066 > 0.05\n",
    "#                                                    => chấp nhận Ho (nghĩa là không tương quan)\n",
    "pearsonr(df['T5'], df['LOGIC'])"
   ]
  },
  {
   "cell_type": "code",
   "execution_count": 23,
   "id": "fdbf25be",
   "metadata": {},
   "outputs": [
    {
     "data": {
      "text/html": [
       "<div>\n",
       "<style scoped>\n",
       "    .dataframe tbody tr th:only-of-type {\n",
       "        vertical-align: middle;\n",
       "    }\n",
       "\n",
       "    .dataframe tbody tr th {\n",
       "        vertical-align: top;\n",
       "    }\n",
       "\n",
       "    .dataframe thead th {\n",
       "        text-align: right;\n",
       "    }\n",
       "</style>\n",
       "<table border=\"1\" class=\"dataframe\">\n",
       "  <thead>\n",
       "    <tr style=\"text-align: right;\">\n",
       "      <th>HUONGNGHIEP</th>\n",
       "      <th>No</th>\n",
       "      <th>Yes</th>\n",
       "    </tr>\n",
       "    <tr>\n",
       "      <th>GT</th>\n",
       "      <th></th>\n",
       "      <th></th>\n",
       "    </tr>\n",
       "  </thead>\n",
       "  <tbody>\n",
       "    <tr>\n",
       "      <th>F</th>\n",
       "      <td>23</td>\n",
       "      <td>25</td>\n",
       "    </tr>\n",
       "    <tr>\n",
       "      <th>M</th>\n",
       "      <td>32</td>\n",
       "      <td>20</td>\n",
       "    </tr>\n",
       "  </tbody>\n",
       "</table>\n",
       "</div>"
      ],
      "text/plain": [
       "HUONGNGHIEP  No  Yes\n",
       "GT                  \n",
       "F            23   25\n",
       "M            32   20"
      ]
     },
     "execution_count": 23,
     "metadata": {},
     "output_type": "execute_result"
    }
   ],
   "source": [
    "#6.Kiểm định Fisher Test ( định tính + định tính )\n",
    "#       Ho: định hướng nghề nghiệp và giới tính là hai biến số độc lập \n",
    "#       => crosstab\n",
    "#.      => p-value = 0.22 > 0.05\n",
    "#.      => chấp nhận Ho\n",
    "import scipy.stats as stats\n",
    "\n",
    "# Hãy kiểm tra xem có sự phụ thuộc nào giữa việc sinh viên có định hướng nghề nghiệp\n",
    "# và giới tính khi thí sinh đăng ký dự thi hay không\n",
    "crosdata = pd.crosstab(df['GT'], [df['HUONGNGHIEP']], rownames=['GT'], colnames=['HUONGNGHIEP'])\n",
    "crosdata\n"
   ]
  },
  {
   "cell_type": "code",
   "execution_count": 24,
   "id": "27079f1e",
   "metadata": {},
   "outputs": [
    {
     "name": "stdout",
     "output_type": "stream",
     "text": [
      "odd ratio is : 0.575\n",
      "p_value is : 0.22763927303454412\n"
     ]
    }
   ],
   "source": [
    "odd_ratio, p_value = stats.fisher_exact(crosdata)\n",
    "print('odd ratio is : ' + str(odd_ratio))\n",
    "print('p_value is : ' + str(p_value))\n"
   ]
  },
  {
   "cell_type": "code",
   "execution_count": 25,
   "id": "2cb6d38d",
   "metadata": {},
   "outputs": [
    {
     "data": {
      "text/html": [
       "<div>\n",
       "<style scoped>\n",
       "    .dataframe tbody tr th:only-of-type {\n",
       "        vertical-align: middle;\n",
       "    }\n",
       "\n",
       "    .dataframe tbody tr th {\n",
       "        vertical-align: top;\n",
       "    }\n",
       "\n",
       "    .dataframe thead th {\n",
       "        text-align: right;\n",
       "    }\n",
       "</style>\n",
       "<table border=\"1\" class=\"dataframe\">\n",
       "  <thead>\n",
       "    <tr style=\"text-align: right;\">\n",
       "      <th>KT</th>\n",
       "      <th>A</th>\n",
       "      <th>A1</th>\n",
       "      <th>B</th>\n",
       "      <th>C</th>\n",
       "      <th>D1</th>\n",
       "    </tr>\n",
       "    <tr>\n",
       "      <th>KV</th>\n",
       "      <th></th>\n",
       "      <th></th>\n",
       "      <th></th>\n",
       "      <th></th>\n",
       "      <th></th>\n",
       "    </tr>\n",
       "  </thead>\n",
       "  <tbody>\n",
       "    <tr>\n",
       "      <th>1</th>\n",
       "      <td>29</td>\n",
       "      <td>2</td>\n",
       "      <td>8</td>\n",
       "      <td>8</td>\n",
       "      <td>13</td>\n",
       "    </tr>\n",
       "    <tr>\n",
       "      <th>2</th>\n",
       "      <td>9</td>\n",
       "      <td>0</td>\n",
       "      <td>0</td>\n",
       "      <td>2</td>\n",
       "      <td>8</td>\n",
       "    </tr>\n",
       "    <tr>\n",
       "      <th>2NT</th>\n",
       "      <td>11</td>\n",
       "      <td>4</td>\n",
       "      <td>1</td>\n",
       "      <td>4</td>\n",
       "      <td>1</td>\n",
       "    </tr>\n",
       "  </tbody>\n",
       "</table>\n",
       "</div>"
      ],
      "text/plain": [
       "KT    A  A1  B  C  D1\n",
       "KV                   \n",
       "1    29   2  8  8  13\n",
       "2     9   0  0  2   8\n",
       "2NT  11   4  1  4   1"
      ]
     },
     "execution_count": 25,
     "metadata": {},
     "output_type": "execute_result"
    }
   ],
   "source": [
    "#7.Kiểm định Chi-square ( định tính + định tính )\n",
    "# Ho: khối thi và khu vực là hai biến độc lập\n",
    "# p-value = 0.02 < 0.05\n",
    "# => không chấp nhận Ho (chứng tỏ hai biến phụ thuộc vào nhau)\n",
    "from scipy.stats import chi2_contingency\n",
    "# Hãy kiểm tra xem có sự phụ thuộc nào giữa khối thi và khu vực khi đăng ký dự thi hay không\n",
    "crosdata = pd.crosstab(df['KV'], [df['KT']], rownames=['KV'], colnames=['KT'])\n",
    "crosdata"
   ]
  },
  {
   "cell_type": "code",
   "execution_count": 26,
   "id": "2e6e954a",
   "metadata": {},
   "outputs": [
    {
     "name": "stdout",
     "output_type": "stream",
     "text": [
      "p value is 0.02012461887796485\n",
      "Dependent (reject H0)\n"
     ]
    }
   ],
   "source": [
    "stat, p, dof, expected = chi2_contingency(crosdata)\n",
    " \n",
    "# interpret p-value\n",
    "alpha = 0.05\n",
    "print(\"p value is \" + str(p))\n",
    "if p <= alpha:\n",
    "    print('Dependent (reject H0)')\n",
    "else:\n",
    "    print('Independent (H0 holds true)')\n"
   ]
  },
  {
   "cell_type": "code",
   "execution_count": 27,
   "id": "5a943591",
   "metadata": {},
   "outputs": [
    {
     "data": {
      "text/html": [
       "<div>\n",
       "<style scoped>\n",
       "    .dataframe tbody tr th:only-of-type {\n",
       "        vertical-align: middle;\n",
       "    }\n",
       "\n",
       "    .dataframe tbody tr th {\n",
       "        vertical-align: top;\n",
       "    }\n",
       "\n",
       "    .dataframe thead th {\n",
       "        text-align: right;\n",
       "    }\n",
       "</style>\n",
       "<table border=\"1\" class=\"dataframe\">\n",
       "  <thead>\n",
       "    <tr style=\"text-align: right;\">\n",
       "      <th>KT</th>\n",
       "      <th>A</th>\n",
       "      <th>A1</th>\n",
       "      <th>B</th>\n",
       "      <th>C</th>\n",
       "      <th>D1</th>\n",
       "    </tr>\n",
       "    <tr>\n",
       "      <th>GT</th>\n",
       "      <th></th>\n",
       "      <th></th>\n",
       "      <th></th>\n",
       "      <th></th>\n",
       "      <th></th>\n",
       "    </tr>\n",
       "  </thead>\n",
       "  <tbody>\n",
       "    <tr>\n",
       "      <th>F</th>\n",
       "      <td>15</td>\n",
       "      <td>5</td>\n",
       "      <td>4</td>\n",
       "      <td>8</td>\n",
       "      <td>16</td>\n",
       "    </tr>\n",
       "    <tr>\n",
       "      <th>M</th>\n",
       "      <td>34</td>\n",
       "      <td>1</td>\n",
       "      <td>5</td>\n",
       "      <td>6</td>\n",
       "      <td>6</td>\n",
       "    </tr>\n",
       "  </tbody>\n",
       "</table>\n",
       "</div>"
      ],
      "text/plain": [
       "KT   A  A1  B  C  D1\n",
       "GT                  \n",
       "F   15   5  4  8  16\n",
       "M   34   1  5  6   6"
      ]
     },
     "execution_count": 27,
     "metadata": {},
     "output_type": "execute_result"
    }
   ],
   "source": [
    "# GT và KT có mối quan hệ hay không?\n",
    "# Ho: khối thi và giới tính là hai biến độc lập\n",
    "# p-value = 0.005 < 0.05\n",
    "# => không chấp nhận Ho (chứng tỏ hai biến phụ thuộc vào nhau)\n",
    "from scipy.stats import chi2_contingency\n",
    "crosdata = pd.crosstab(df['GT'], [df['KT']], rownames=['GT'], colnames=['KT'])\n",
    "crosdata"
   ]
  },
  {
   "cell_type": "code",
   "execution_count": 28,
   "id": "cb452198",
   "metadata": {},
   "outputs": [
    {
     "name": "stdout",
     "output_type": "stream",
     "text": [
      "p value is 0.005044752209452435\n",
      "Dependent (reject H0)\n"
     ]
    }
   ],
   "source": [
    "stat, p, dof, expected = chi2_contingency(crosdata)\n",
    " \n",
    "# interpret p-value\n",
    "alpha = 0.05\n",
    "print(\"p value is \" + str(p))\n",
    "if p <= alpha:\n",
    "    print('Dependent (reject H0)')\n",
    "else:\n",
    "    print('Independent (H0 holds true)')\n"
   ]
  },
  {
   "cell_type": "code",
   "execution_count": 29,
   "id": "4486f376",
   "metadata": {},
   "outputs": [
    {
     "data": {
      "text/html": [
       "<div>\n",
       "<style scoped>\n",
       "    .dataframe tbody tr th:only-of-type {\n",
       "        vertical-align: middle;\n",
       "    }\n",
       "\n",
       "    .dataframe tbody tr th {\n",
       "        vertical-align: top;\n",
       "    }\n",
       "\n",
       "    .dataframe thead th {\n",
       "        text-align: right;\n",
       "    }\n",
       "</style>\n",
       "<table border=\"1\" class=\"dataframe\">\n",
       "  <thead>\n",
       "    <tr style=\"text-align: right;\">\n",
       "      <th></th>\n",
       "      <th>df</th>\n",
       "      <th>sum_sq</th>\n",
       "      <th>mean_sq</th>\n",
       "      <th>F</th>\n",
       "      <th>PR(&gt;F)</th>\n",
       "    </tr>\n",
       "  </thead>\n",
       "  <tbody>\n",
       "    <tr>\n",
       "      <th>GT</th>\n",
       "      <td>1.0</td>\n",
       "      <td>1.55201</td>\n",
       "      <td>1.55201</td>\n",
       "      <td>0.833769</td>\n",
       "      <td>0.363426</td>\n",
       "    </tr>\n",
       "    <tr>\n",
       "      <th>Residual</th>\n",
       "      <td>98.0</td>\n",
       "      <td>182.42109</td>\n",
       "      <td>1.86144</td>\n",
       "      <td>NaN</td>\n",
       "      <td>NaN</td>\n",
       "    </tr>\n",
       "  </tbody>\n",
       "</table>\n",
       "</div>"
      ],
      "text/plain": [
       "            df     sum_sq  mean_sq         F    PR(>F)\n",
       "GT         1.0    1.55201  1.55201  0.833769  0.363426\n",
       "Residual  98.0  182.42109  1.86144       NaN       NaN"
      ]
     },
     "execution_count": 29,
     "metadata": {},
     "output_type": "execute_result"
    }
   ],
   "source": [
    "#     8.Anova( One way ) (định tính + định lượng)\n",
    "#     9.Anova( Two way )  (nhóm,phânloại) \n",
    "# Điểm toán học kì 2 lớp 12 có phụ thuộc vào giới tính không\n",
    "import statsmodels.api as sm\n",
    "from statsmodels.formula.api import ols\n",
    "\n",
    "\n",
    "model = ols('T6 ~ GT', data=df).fit()\n",
    "aov_table = sm.stats.anova_lm(model, typ=1)\n",
    "aov_table\n",
    "\n",
    "# Ho: Trung bình điểm T6 / nhóm nam = Trung bình điểm T6 / nhóm nữ \n",
    "# p-value: 0.36 > 0.05\n",
    "# => Chấp nhận Ho (hai biến độc lập không phụ thuộc nhau)"
   ]
  },
  {
   "cell_type": "code",
   "execution_count": 37,
   "id": "2ed558aa",
   "metadata": {},
   "outputs": [
    {
     "data": {
      "text/html": [
       "<div>\n",
       "<style scoped>\n",
       "    .dataframe tbody tr th:only-of-type {\n",
       "        vertical-align: middle;\n",
       "    }\n",
       "\n",
       "    .dataframe tbody tr th {\n",
       "        vertical-align: top;\n",
       "    }\n",
       "\n",
       "    .dataframe thead th {\n",
       "        text-align: right;\n",
       "    }\n",
       "</style>\n",
       "<table border=\"1\" class=\"dataframe\">\n",
       "  <thead>\n",
       "    <tr style=\"text-align: right;\">\n",
       "      <th></th>\n",
       "      <th>df</th>\n",
       "      <th>sum_sq</th>\n",
       "      <th>mean_sq</th>\n",
       "      <th>F</th>\n",
       "      <th>PR(&gt;F)</th>\n",
       "    </tr>\n",
       "  </thead>\n",
       "  <tbody>\n",
       "    <tr>\n",
       "      <th>KV</th>\n",
       "      <td>2.0</td>\n",
       "      <td>6.053398</td>\n",
       "      <td>3.026699</td>\n",
       "      <td>2.790934</td>\n",
       "      <td>0.066299</td>\n",
       "    </tr>\n",
       "    <tr>\n",
       "      <th>Residual</th>\n",
       "      <td>97.0</td>\n",
       "      <td>105.194102</td>\n",
       "      <td>1.084475</td>\n",
       "      <td>NaN</td>\n",
       "      <td>NaN</td>\n",
       "    </tr>\n",
       "  </tbody>\n",
       "</table>\n",
       "</div>"
      ],
      "text/plain": [
       "            df      sum_sq   mean_sq         F    PR(>F)\n",
       "KV         2.0    6.053398  3.026699  2.790934  0.066299\n",
       "Residual  97.0  105.194102  1.084475       NaN       NaN"
      ]
     },
     "execution_count": 37,
     "metadata": {},
     "output_type": "execute_result"
    }
   ],
   "source": [
    "# Điểm LOGIC có phụ thuộc vào khu vực hay không\n",
    "# Ho: TB điểm LOGIC 1 = TB điểm LOGIC 2 = TB điểm LOGIC 2NT\n",
    "# p-value = 0.06 > 0.05\n",
    "import statsmodels.api as sm\n",
    "from statsmodels.formula.api import ols\n",
    "\n",
    "model = ols('LOGIC ~ KV', data=df).fit()\n",
    "aov_table = sm.stats.anova_lm(model, typ=1)\n",
    "aov_table\n",
    "# Điểm UNGXU có phụ thuộc khối thi hay không\n",
    "\n",
    "# (Xem lại chỗ này)"
   ]
  },
  {
   "cell_type": "code",
   "execution_count": 31,
   "id": "d0ffc187",
   "metadata": {},
   "outputs": [
    {
     "name": "stdout",
     "output_type": "stream",
     "text": [
      "            df     sum_sq   mean_sq         F    PR(>F)\n",
      "GT         1.0   3.998401  3.998401  3.853364  0.052602\n",
      "KV         2.0   8.561314  4.280657  4.125382  0.019173\n",
      "GT:KV      2.0   1.149707  0.574854  0.554002  0.576510\n",
      "Residual  94.0  97.538077  1.037639       NaN       NaN\n"
     ]
    }
   ],
   "source": [
    "# Hãy cho biết điểm LOGIC có phụ thuộc vào loại GT trên từng nhóm KV hay không\n",
    "# Performing two-way ANOVA\n",
    "model = ols('LOGIC ~ GT + KV + GT:KV',data=df).fit()\n",
    "result = sm.stats.anova_lm(model, type=2)\n",
    " \n",
    "# Print the result\n",
    "print(result)\n",
    "# dòng 1: Logic -> GT : không phụ thuộc\n",
    "# dòng 2: Logic -> KV : phụ thuộc\n",
    "# dòng 3: Logic: - Female : - 1\n",
    "#                           - 2\n",
    "#                           - 3\n",
    "                    \n",
    "#                - Male:    - 1\n",
    "#                           - 2\n",
    "#                           - 3"
   ]
  },
  {
   "cell_type": "code",
   "execution_count": 34,
   "id": "c6027949",
   "metadata": {},
   "outputs": [
    {
     "name": "stdout",
     "output_type": "stream",
     "text": [
      "            df      sum_sq    mean_sq          F        PR(>F)\n",
      "KV         2.0    4.237274   2.118637   1.416009  2.482173e-01\n",
      "KT         4.0   65.431143  16.357786  10.932867  3.150065e-07\n",
      "KV:KT      8.0    1.486487   0.185811   0.124188  9.981082e-01\n",
      "Residual  87.0  130.169640   1.496203        NaN           NaN\n"
     ]
    }
   ],
   "source": [
    "# Hãy cho biết điểm LOGIC có phụ thuộc vào loại GT trên từng nhóm KV hay không\n",
    "# Performing two-way ANOVA\n",
    "model = ols('NGONNGU ~ KV + KT + KV:KT',data=df).fit()\n",
    "result = sm.stats.anova_lm(model, type=2)\n",
    " \n",
    "# Print the result\n",
    "print(result)\n",
    "\n",
    "# Phân tích xem NGONNGU có phụ thuộc trên nhóm KV theo từng loại KT hay không\n",
    "\n",
    "\n",
    "# Phân tích xem NGONNGU có phụ thuộc trên nhóm KV theo từng loại KT hay không\n",
    "# dòng 1: NGONNGU -> KV : phụ thuộc\n",
    "# dòng 2: NGONNGU -> KT : phụ thuộc\n",
    "# dòng 3: NGONNGU: - Female : - 1\n",
    "#                             - 2\n",
    "#                             - 3\n",
    "                    \n",
    "#                - Male:    - 1 \n",
    "#                           - 2\n",
    "#                           - 3"
   ]
  },
  {
   "cell_type": "markdown",
   "id": "954dbedb",
   "metadata": {},
   "source": [
    "# PHÂN TÍCH HỒI QUY "
   ]
  },
  {
   "cell_type": "code",
   "execution_count": null,
   "id": "aab3104b",
   "metadata": {},
   "outputs": [],
   "source": [
    "# Mục đích: Phân tích sự tác động( ảnh hưởng ) của các yếu tố ( biến số ) đến một mục tiêu\n",
    "                 y = f(x) (biến x: có tên gọi khác là: - Giải thích\n",
    "                                                       - Độc lập\n",
    "                           biến y: có tên gọi khác là: - Mục tiêu\n",
    "                                                       - Phụ thuộc\n",
    "                          )\n",
    "    Hàm hồi quy tuyến tính: Y = A0 + A1 * X1 + A2 *X2+...+ An * Xn\n",
    "        "
   ]
  },
  {
   "cell_type": "code",
   "execution_count": 38,
   "id": "b81f18f8",
   "metadata": {},
   "outputs": [
    {
     "name": "stdout",
     "output_type": "stream",
     "text": [
      "                            OLS Regression Results                            \n",
      "==============================================================================\n",
      "Dep. Variable:                      y   R-squared:                       0.606\n",
      "Model:                            OLS   Adj. R-squared:                  0.602\n",
      "Method:                 Least Squares   F-statistic:                     151.0\n",
      "Date:                Sun, 10 Sep 2023   Prob (F-statistic):           1.48e-21\n",
      "Time:                        10:45:55   Log-Likelihood:                -125.76\n",
      "No. Observations:                 100   AIC:                             255.5\n",
      "Df Residuals:                      98   BIC:                             260.7\n",
      "Df Model:                           1                                         \n",
      "Covariance Type:            nonrobust                                         \n",
      "==============================================================================\n",
      "                 coef    std err          t      P>|t|      [0.025      0.975]\n",
      "------------------------------------------------------------------------------\n",
      "const          2.1130      0.402      5.257      0.000       1.315       2.911\n",
      "x1             0.7182      0.058     12.286      0.000       0.602       0.834\n",
      "==============================================================================\n",
      "Omnibus:                        1.387   Durbin-Watson:                   1.738\n",
      "Prob(Omnibus):                  0.500   Jarque-Bera (JB):                0.860\n",
      "Skew:                          -0.104   Prob(JB):                        0.650\n",
      "Kurtosis:                       3.404   Cond. No.                         32.8\n",
      "==============================================================================\n",
      "\n",
      "Notes:\n",
      "[1] Standard Errors assume that the covariance matrix of the errors is correctly specified.\n"
     ]
    }
   ],
   "source": [
    "# Hãy cho biết sự ảnh hưởng của điểm học kì 1 năm lớp 12 đến điểm học kì 2 năm lớp 12\n",
    "\n",
    "# T6 = f(T5)\n",
    "# Note: Mô hình OLS \n",
    "# T6 = A0 + A1 * T5 + E(ét xi lanh) (phần dư, phần chênh lệch)  \n",
    "#                      (A0: intencept: hệ số tự do\n",
    "#                       A1: Coficent  \n",
    "#                      )\n",
    "\n",
    "import statsmodels.api as sm\n",
    "#adding a constant\n",
    "X_with_constant = sm.add_constant(df[[\"T5\"]].values)\n",
    "y = df[['T6']].values\n",
    "#performing the regression\n",
    "result = sm.OLS(y, X_with_constant).fit()\n",
    "# Result of statsmodels\n",
    "print(result.summary())\n",
    "#Note:\n",
    "# R-Square (Adj R-Squared): 0.606 (thể hiện biến T5 60.6% sự thay đổi của biến T6) => biến T5 ảnh hưởng 60.6% lên T6\n",
    "# Prob (F-statistic) : 1.48*10^-21 < anpha(0.05) => cho thấy dùng phương trình(mô hình) giải thích cho T6 là phù hợp\n",
    "# const: 2.1130 (thể hiện A0)\n",
    "# x1: 0.7182    (Thể hiện A1)\n",
    "# => T6 = 2.1130 + 0.7128 * T5\n",
    "\n",
    "# ví dụ: T5 = 7 \n",
    "# => T6 = 7.1026 \n",
    "#   (Predicted) T6: là giá trị dự báo \n",
    "# Nếu T5 tăng 1\n",
    "# T6 tăng 0.7182\n",
    "# T6 = 8.0 thì sẽ lênh chệch với phần dự báo phần chênh lệch sẽ là ét si lanh(E)\n",
    "\n",
    "# P>|t|: \n",
    "# const          0.000\n",
    "# x1             0.000 < anpha (0.05) Cho thấy sự phù hợp khi sử dụng mô hình đó\n"
   ]
  },
  {
   "cell_type": "code",
   "execution_count": 39,
   "id": "ca8b38a7",
   "metadata": {},
   "outputs": [
    {
     "name": "stdout",
     "output_type": "stream",
     "text": [
      "                            OLS Regression Results                            \n",
      "==============================================================================\n",
      "Dep. Variable:                      y   R-squared:                       0.097\n",
      "Model:                            OLS   Adj. R-squared:                  0.079\n",
      "Method:                 Least Squares   F-statistic:                     5.226\n",
      "Date:                Sun, 10 Sep 2023   Prob (F-statistic):            0.00699\n",
      "Time:                        11:01:43   Log-Likelihood:                -142.11\n",
      "No. Observations:                 100   AIC:                             290.2\n",
      "Df Residuals:                      97   BIC:                             298.0\n",
      "Df Model:                           2                                         \n",
      "Covariance Type:            nonrobust                                         \n",
      "==============================================================================\n",
      "                 coef    std err          t      P>|t|      [0.025      0.975]\n",
      "------------------------------------------------------------------------------\n",
      "const          2.7072      0.539      5.026      0.000       1.638       3.776\n",
      "x1            -0.0913      0.110     -0.828      0.410      -0.310       0.128\n",
      "x2             0.3115      0.120      2.606      0.011       0.074       0.549\n",
      "==============================================================================\n",
      "Omnibus:                       14.098   Durbin-Watson:                   2.005\n",
      "Prob(Omnibus):                  0.001   Jarque-Bera (JB):               17.272\n",
      "Skew:                           0.745   Prob(JB):                     0.000178\n",
      "Kurtosis:                       4.387   Cond. No.                         52.7\n",
      "==============================================================================\n",
      "\n",
      "Notes:\n",
      "[1] Standard Errors assume that the covariance matrix of the errors is correctly specified.\n"
     ]
    }
   ],
   "source": [
    "# Hãy phân tích sự ảnh hưởng của điểm toán học kì 1,2 (T5,T6) năm lớp 12 đến điểm LOGIC\n",
    "# Logic = f(T5,T6)\n",
    "# Logic = A0 + A1 *T5 + A2 *T6 + E\n",
    "\n",
    "# R-Square = 0.097 ~ 9,7%\n",
    "# Prob(F-Statis) = 0.00699 < anpha (mô hình này có ý nghĩa thống kê)\n",
    "#          Coef           P>|T|\n",
    "# const    2.71          0.000\n",
    "# x1      -0.09          0.410 > anpha ( không có ý nghĩa thống kê trong PT)\n",
    "# x2       0.31          0.011 < anpha ( có ý nghĩa thống kê trong PT)\n",
    "\n",
    "# => Logic = 2.71 - 0.09 * T5 + 0.31 * T6 \n",
    "# # Cho biết nếu T5 = 6.0 và T6 = 5.5 thì dự đoán học sinh đi thi sẽ được điểm LOGIC là nhiêu\n",
    "# => Logic = 2.71 - 0.09 * 6.0 + 0.31 * 5.5 = 3.875 \n",
    "#       Predicted\n",
    "\n",
    "import statsmodels.api as sm\n",
    "#adding a constant\n",
    "X_with_constant = sm.add_constant(df[[\"T5\",\"T6\"]].values)\n",
    "y = df[['LOGIC']].values\n",
    "#performing the regression\n",
    "result = sm.OLS(y, X_with_constant).fit()\n",
    "# Result of statsmodels\n",
    "print(result.summary())"
   ]
  },
  {
   "cell_type": "code",
   "execution_count": null,
   "id": "c9b95a74",
   "metadata": {},
   "outputs": [],
   "source": []
  }
 ],
 "metadata": {
  "kernelspec": {
   "display_name": "Python 3 (ipykernel)",
   "language": "python",
   "name": "python3"
  },
  "language_info": {
   "codemirror_mode": {
    "name": "ipython",
    "version": 3
   },
   "file_extension": ".py",
   "mimetype": "text/x-python",
   "name": "python",
   "nbconvert_exporter": "python",
   "pygments_lexer": "ipython3",
   "version": "3.10.9"
  }
 },
 "nbformat": 4,
 "nbformat_minor": 5
}
