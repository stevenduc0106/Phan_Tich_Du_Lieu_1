{
 "cells": [
  {
   "cell_type": "code",
   "execution_count": 1,
   "id": "33b70eb3",
   "metadata": {},
   "outputs": [],
   "source": [
    "#Import Thu Vien\n",
    "import pandas as pd\n",
    "import seaborn as sns\n",
    "import matplotlib.pyplot as plt \n",
    "\n",
    "#Tai Du Lieu Len Data Frame, dat ten la df\n",
    "df = pd.read_csv('dulieuxettuyendaihoc.csv',header = 0, delimiter = ',', encoding = 'utf-8')\n",
    "df.head()\n",
    "df=df[['T5','T6','TOANLOGICPHANTICH']]\n",
    "\n",
    "#Tập dữ liệu Input(đặc trưng) và Output(mục tiêu)\n",
    "X = df[['T5','T6']].values #input\n",
    "y = df[['TOANLOGICPHANTICH']].values #output\n",
    "\n",
    "#Đảm bảo dữ liệu là kiểu số thực\n",
    "X = X.astype(float)\n",
    "y = y.astype(float)\n",
    "\n",
    "#Chia tách ra trainning ( huấn luyện ) và testing (kiểm thử)\n",
    "from sklearn.model_selection import train_test_split\n",
    "X_train,X_test,y_train,y_test = train_test_split(X,y,test_size=0.2,random_state=16 )\n"
   ]
  },
  {
   "cell_type": "code",
   "execution_count": 2,
   "id": "1c5845cc",
   "metadata": {},
   "outputs": [],
   "source": [
    "from sklearn.preprocessing import MinMaxScaler\n",
    "#Scale cho input\n",
    "sc = MinMaxScaler()\n",
    "X_train = sc.fit_transform(X_train)"
   ]
  },
  {
   "cell_type": "code",
   "execution_count": 3,
   "id": "47d2f079",
   "metadata": {},
   "outputs": [
    {
     "name": "stdout",
     "output_type": "stream",
     "text": [
      "[3.78496104]\n",
      "[[-0.71731067  1.66806059]]\n"
     ]
    }
   ],
   "source": [
    "#Xây dựng mô hình hồi quy tuyến tính đa biến\n",
    "# NGONNGU = A0 + A1*T5 + A2*T6   + epsilon (T5,T6 đã chuẩn hóa)\n",
    "\n",
    "from sklearn import linear_model\n",
    "\n",
    "model = linear_model.LinearRegression()\n",
    "model.fit(X_train,y_train)\n",
    "\n",
    "#Sinh Viên xác định các giá trị này tương ứng với gì \n",
    "\n",
    "print(model.intercept_)\n",
    "\n",
    "print(model.coef_)\n"
   ]
  },
  {
   "cell_type": "code",
   "execution_count": 4,
   "id": "df575316",
   "metadata": {},
   "outputs": [
    {
     "name": "stdout",
     "output_type": "stream",
     "text": [
      "Score or R-Squared: 0.17907898645214726\n",
      "Mean Absolute Error: 0.6417464672512458\n",
      "Mean Squared Error: 0.7638413493246036\n",
      "Root Mean Squared Error: 0.8739801767343488\n",
      "Mean Absolute Percentage Error: 0.18798549951986457\n"
     ]
    }
   ],
   "source": [
    "import numpy as np\n",
    "from sklearn import metrics\n",
    "\n",
    "\n",
    "X_test = sc.transform(X_test)\n",
    "\n",
    "#Tinh gia tri du bao T6 dua tren du lieu T5 cua tap Test\n",
    "y_test_pred = model.predict(X_test)\n",
    "\n",
    "print('Score or R-Squared:',model.score(X_test,y_test))\n",
    "\n",
    "print('Mean Absolute Error:',metrics.mean_absolute_error(y_test,y_test_pred))\n",
    "\n",
    "print('Mean Squared Error:',metrics.mean_squared_error(y_test,y_test_pred))\n",
    "\n",
    "print('Root Mean Squared Error:',np.sqrt(metrics.mean_squared_error(y_test,y_test_pred)))\n",
    "\n",
    "print('Mean Absolute Percentage Error:',metrics.mean_absolute_percentage_error(y_test,y_test_pred))"
   ]
  },
  {
   "cell_type": "code",
   "execution_count": null,
   "id": "400c1e88",
   "metadata": {},
   "outputs": [],
   "source": []
  }
 ],
 "metadata": {
  "kernelspec": {
   "display_name": "Python 3 (ipykernel)",
   "language": "python",
   "name": "python3"
  },
  "language_info": {
   "codemirror_mode": {
    "name": "ipython",
    "version": 3
   },
   "file_extension": ".py",
   "mimetype": "text/x-python",
   "name": "python",
   "nbconvert_exporter": "python",
   "pygments_lexer": "ipython3",
   "version": "3.10.9"
  }
 },
 "nbformat": 4,
 "nbformat_minor": 5
}
