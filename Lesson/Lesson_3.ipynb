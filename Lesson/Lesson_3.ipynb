{
 "cells": [
  {
   "cell_type": "code",
   "execution_count": null,
   "id": "b7a02549",
   "metadata": {},
   "outputs": [],
   "source": [
    "#Phân tích mô tả định lượng\n",
    "# Phân tích định lượng lấy trong tâm là các biến định lương\n",
    "# Mục đích: Mô tả các tri thức đang ẩn chứa bên trong dữ liệu, thông qua các đại lượng mô tả toán học.\n",
    "\n",
    "# Có 2 nhóm đại lượng mô tả: \n",
    "\n",
    "# - Đo lương mức độ tập trung: min, max, mean, median, mide, p-phân vị\n",
    "#   + cho biết dữ liệu phân bố ở đâu.\n",
    "#   + Min, max: cho biết dữ liệu đi từ điểm nào đến điểm nào\n",
    "#   + Mean: đại biểu cho tập dữ liệu, và cũng có thể coi là một giá trị kỳ vọng (dễ nhạy cảm với giá trị bất thường)\n",
    "#     VD: Giả sử có các điểm số như sau: 5 6 5.5 6.5 6 => Mean = 6.0 \n",
    "#                                        4 3 1 2 10 10 => Mean = 5.0\n",
    "\n",
    "#   + Median(trung vị): không bị ảnh hưởng bởi bất thường\n",
    "#     VD: 5 6 0 1 2 => 0 1 (2) 5 6 : cho thấy 50% giá trị nhỏ hơn 2 và 50% lớn hơn 2\n",
    "#   + Mode(yếu vị): cho biết đại đa số dữ liệu là bao nhiêu và không bị ảnh hưởng bởi bất thường ( một dãy số có thể có hoặc không có mode )\n",
    "#     VD: 1 1 0 5 5 6 => mode = 5 \n",
    "#   + Phân vị p: (p-1) thông thường dùng tứ phân vị(biểu diễn thông qua 3 con số q1(phân vị 25%) q2(Median) q3(phân vị 75%, từ q1 đến q3 có 50& gọi là mảng IQR))\n",
    "#     và thập phân vị ( có 9 con số)\n",
    "#     Ứng dụng: giả sử một công ty có 40 nhân viên và có tứ phân vị như sau: \n",
    "#     q1 (8tr)   q2 (12tr)    q3(20tr)\n",
    "#     10 người    20 người     10 người \n",
    "#     thường nhóm q1 sẽ bị đánh giá là năng lực thấp\n",
    "#     trong khoảng q1 đến q3 là nhóm bình thường\n",
    "#     q3 trở lên là nhóm suất sắc \n",
    "\n",
    "# - Đo lượng dộ phân tán: range, IQR, độ lệch trung bình\n",
    "#   (Phân tán là biến động, biến thiên, mức độ hỗn độn) \n",
    "#    sự phân tán càng cao dẫn đến:  * sự ổn định càng thấp\n",
    "#                                   * sự quyết định khó\n",
    "#   + Range = max - min: range càng cao sự biến động càng lớn và ngược lại\n",
    "#   + IQR = Q3 - Q1: càng thấp thì càng ổn định và ngược lại\n",
    "#   + Độ lệch trung bình = Z|xi - Y| /  N  : càng cao thì biếng thiên càng cao và càng thấp thì độ biến động càng thấp\n",
    "\n",
    "# 4 Phương Sai ( vanian ) var,xíchma^2,: càng thấp thì ổn định càng cao và ngược lại\n",
    "# 5 Độ lệch chuẩn (std, standard devation): càng cao biến động càng cao và ngược lại\n",
    "#    XíchMa = sqrt(var)"
   ]
  },
  {
   "cell_type": "code",
   "execution_count": 18,
   "id": "690cfb07",
   "metadata": {},
   "outputs": [
    {
     "data": {
      "text/html": [
       "<div>\n",
       "<style scoped>\n",
       "    .dataframe tbody tr th:only-of-type {\n",
       "        vertical-align: middle;\n",
       "    }\n",
       "\n",
       "    .dataframe tbody tr th {\n",
       "        vertical-align: top;\n",
       "    }\n",
       "\n",
       "    .dataframe thead th {\n",
       "        text-align: right;\n",
       "    }\n",
       "</style>\n",
       "<table border=\"1\" class=\"dataframe\">\n",
       "  <thead>\n",
       "    <tr style=\"text-align: right;\">\n",
       "      <th></th>\n",
       "      <th>MSSV</th>\n",
       "      <th>T1</th>\n",
       "      <th>T2</th>\n",
       "      <th>T3</th>\n",
       "      <th>T4</th>\n",
       "      <th>T5</th>\n",
       "      <th>T6</th>\n",
       "      <th>GT</th>\n",
       "      <th>DT</th>\n",
       "      <th>KV</th>\n",
       "      <th>NGONNGU</th>\n",
       "      <th>TOANLOGICPHANTICH</th>\n",
       "      <th>GIAIQUYETVANDE</th>\n",
       "      <th>KT</th>\n",
       "      <th>NGAYTHI</th>\n",
       "      <th>DINHHUONGNGHENGHIEP</th>\n",
       "    </tr>\n",
       "  </thead>\n",
       "  <tbody>\n",
       "    <tr>\n",
       "      <th>0</th>\n",
       "      <td>SV001</td>\n",
       "      <td>7.2</td>\n",
       "      <td>8.4</td>\n",
       "      <td>7.4</td>\n",
       "      <td>7.2</td>\n",
       "      <td>7.4</td>\n",
       "      <td>6.9</td>\n",
       "      <td>F</td>\n",
       "      <td>NaN</td>\n",
       "      <td>2NT</td>\n",
       "      <td>3.25</td>\n",
       "      <td>3.25</td>\n",
       "      <td>4.50</td>\n",
       "      <td>A1</td>\n",
       "      <td>12/7/2018</td>\n",
       "      <td>No</td>\n",
       "    </tr>\n",
       "    <tr>\n",
       "      <th>1</th>\n",
       "      <td>SV002</td>\n",
       "      <td>5.4</td>\n",
       "      <td>6.3</td>\n",
       "      <td>4.3</td>\n",
       "      <td>4.9</td>\n",
       "      <td>3.0</td>\n",
       "      <td>4.0</td>\n",
       "      <td>M</td>\n",
       "      <td>NaN</td>\n",
       "      <td>1</td>\n",
       "      <td>6.00</td>\n",
       "      <td>4.00</td>\n",
       "      <td>3.50</td>\n",
       "      <td>C</td>\n",
       "      <td>12/7/2018</td>\n",
       "      <td>Yes</td>\n",
       "    </tr>\n",
       "    <tr>\n",
       "      <th>2</th>\n",
       "      <td>SV003</td>\n",
       "      <td>5.6</td>\n",
       "      <td>5.0</td>\n",
       "      <td>2.8</td>\n",
       "      <td>6.1</td>\n",
       "      <td>4.8</td>\n",
       "      <td>5.7</td>\n",
       "      <td>M</td>\n",
       "      <td>NaN</td>\n",
       "      <td>1</td>\n",
       "      <td>5.00</td>\n",
       "      <td>6.75</td>\n",
       "      <td>4.00</td>\n",
       "      <td>C</td>\n",
       "      <td>12/7/2018</td>\n",
       "      <td>No</td>\n",
       "    </tr>\n",
       "    <tr>\n",
       "      <th>3</th>\n",
       "      <td>SV004</td>\n",
       "      <td>6.6</td>\n",
       "      <td>5.1</td>\n",
       "      <td>5.9</td>\n",
       "      <td>4.1</td>\n",
       "      <td>6.1</td>\n",
       "      <td>7.4</td>\n",
       "      <td>M</td>\n",
       "      <td>NaN</td>\n",
       "      <td>1</td>\n",
       "      <td>4.25</td>\n",
       "      <td>4.25</td>\n",
       "      <td>5.25</td>\n",
       "      <td>D1</td>\n",
       "      <td>12/7/2018</td>\n",
       "      <td>No</td>\n",
       "    </tr>\n",
       "    <tr>\n",
       "      <th>4</th>\n",
       "      <td>SV005</td>\n",
       "      <td>6.0</td>\n",
       "      <td>5.4</td>\n",
       "      <td>7.6</td>\n",
       "      <td>4.4</td>\n",
       "      <td>6.8</td>\n",
       "      <td>8.0</td>\n",
       "      <td>M</td>\n",
       "      <td>NaN</td>\n",
       "      <td>2NT</td>\n",
       "      <td>4.25</td>\n",
       "      <td>4.50</td>\n",
       "      <td>5.00</td>\n",
       "      <td>A</td>\n",
       "      <td>12/7/2018</td>\n",
       "      <td>No</td>\n",
       "    </tr>\n",
       "    <tr>\n",
       "      <th>...</th>\n",
       "      <td>...</td>\n",
       "      <td>...</td>\n",
       "      <td>...</td>\n",
       "      <td>...</td>\n",
       "      <td>...</td>\n",
       "      <td>...</td>\n",
       "      <td>...</td>\n",
       "      <td>...</td>\n",
       "      <td>...</td>\n",
       "      <td>...</td>\n",
       "      <td>...</td>\n",
       "      <td>...</td>\n",
       "      <td>...</td>\n",
       "      <td>...</td>\n",
       "      <td>...</td>\n",
       "      <td>...</td>\n",
       "    </tr>\n",
       "    <tr>\n",
       "      <th>95</th>\n",
       "      <td>SV0096</td>\n",
       "      <td>8.6</td>\n",
       "      <td>8.9</td>\n",
       "      <td>7.7</td>\n",
       "      <td>6.7</td>\n",
       "      <td>7.9</td>\n",
       "      <td>6.6</td>\n",
       "      <td>F</td>\n",
       "      <td>NaN</td>\n",
       "      <td>1</td>\n",
       "      <td>5.25</td>\n",
       "      <td>1.50</td>\n",
       "      <td>6.25</td>\n",
       "      <td>C</td>\n",
       "      <td>7/20/2022</td>\n",
       "      <td>Yes</td>\n",
       "    </tr>\n",
       "    <tr>\n",
       "      <th>96</th>\n",
       "      <td>SV0097</td>\n",
       "      <td>3.7</td>\n",
       "      <td>4.1</td>\n",
       "      <td>3.1</td>\n",
       "      <td>3.4</td>\n",
       "      <td>5.5</td>\n",
       "      <td>5.7</td>\n",
       "      <td>F</td>\n",
       "      <td>NaN</td>\n",
       "      <td>1</td>\n",
       "      <td>5.25</td>\n",
       "      <td>3.75</td>\n",
       "      <td>4.75</td>\n",
       "      <td>C</td>\n",
       "      <td>7/20/2022</td>\n",
       "      <td>No</td>\n",
       "    </tr>\n",
       "    <tr>\n",
       "      <th>97</th>\n",
       "      <td>SV0098</td>\n",
       "      <td>8.8</td>\n",
       "      <td>9.5</td>\n",
       "      <td>9.5</td>\n",
       "      <td>8.5</td>\n",
       "      <td>9.0</td>\n",
       "      <td>8.5</td>\n",
       "      <td>M</td>\n",
       "      <td>NaN</td>\n",
       "      <td>2NT</td>\n",
       "      <td>7.00</td>\n",
       "      <td>8.00</td>\n",
       "      <td>4.00</td>\n",
       "      <td>C</td>\n",
       "      <td>7/20/2022</td>\n",
       "      <td>Yes</td>\n",
       "    </tr>\n",
       "    <tr>\n",
       "      <th>98</th>\n",
       "      <td>SV0099</td>\n",
       "      <td>2.7</td>\n",
       "      <td>2.8</td>\n",
       "      <td>6.2</td>\n",
       "      <td>5.2</td>\n",
       "      <td>4.1</td>\n",
       "      <td>4.3</td>\n",
       "      <td>M</td>\n",
       "      <td>NaN</td>\n",
       "      <td>1</td>\n",
       "      <td>5.00</td>\n",
       "      <td>3.50</td>\n",
       "      <td>5.50</td>\n",
       "      <td>C</td>\n",
       "      <td>7/20/2022</td>\n",
       "      <td>No</td>\n",
       "    </tr>\n",
       "    <tr>\n",
       "      <th>99</th>\n",
       "      <td>SV00100</td>\n",
       "      <td>4.1</td>\n",
       "      <td>4.4</td>\n",
       "      <td>6.0</td>\n",
       "      <td>4.3</td>\n",
       "      <td>5.6</td>\n",
       "      <td>5.1</td>\n",
       "      <td>M</td>\n",
       "      <td>NaN</td>\n",
       "      <td>2NT</td>\n",
       "      <td>5.25</td>\n",
       "      <td>2.50</td>\n",
       "      <td>4.25</td>\n",
       "      <td>C</td>\n",
       "      <td>7/20/2022</td>\n",
       "      <td>Yes</td>\n",
       "    </tr>\n",
       "  </tbody>\n",
       "</table>\n",
       "<p>100 rows × 16 columns</p>\n",
       "</div>"
      ],
      "text/plain": [
       "       MSSV   T1   T2   T3   T4   T5   T6 GT  DT   KV  NGONNGU  \\\n",
       "0     SV001  7.2  8.4  7.4  7.2  7.4  6.9  F NaN  2NT     3.25   \n",
       "1     SV002  5.4  6.3  4.3  4.9  3.0  4.0  M NaN    1     6.00   \n",
       "2     SV003  5.6  5.0  2.8  6.1  4.8  5.7  M NaN    1     5.00   \n",
       "3     SV004  6.6  5.1  5.9  4.1  6.1  7.4  M NaN    1     4.25   \n",
       "4     SV005  6.0  5.4  7.6  4.4  6.8  8.0  M NaN  2NT     4.25   \n",
       "..      ...  ...  ...  ...  ...  ...  ... ..  ..  ...      ...   \n",
       "95   SV0096  8.6  8.9  7.7  6.7  7.9  6.6  F NaN    1     5.25   \n",
       "96   SV0097  3.7  4.1  3.1  3.4  5.5  5.7  F NaN    1     5.25   \n",
       "97   SV0098  8.8  9.5  9.5  8.5  9.0  8.5  M NaN  2NT     7.00   \n",
       "98   SV0099  2.7  2.8  6.2  5.2  4.1  4.3  M NaN    1     5.00   \n",
       "99  SV00100  4.1  4.4  6.0  4.3  5.6  5.1  M NaN  2NT     5.25   \n",
       "\n",
       "    TOANLOGICPHANTICH  GIAIQUYETVANDE  KT    NGAYTHI DINHHUONGNGHENGHIEP  \n",
       "0                3.25            4.50  A1  12/7/2018                  No  \n",
       "1                4.00            3.50   C  12/7/2018                 Yes  \n",
       "2                6.75            4.00   C  12/7/2018                  No  \n",
       "3                4.25            5.25  D1  12/7/2018                  No  \n",
       "4                4.50            5.00   A  12/7/2018                  No  \n",
       "..                ...             ...  ..        ...                 ...  \n",
       "95               1.50            6.25   C  7/20/2022                 Yes  \n",
       "96               3.75            4.75   C  7/20/2022                  No  \n",
       "97               8.00            4.00   C  7/20/2022                 Yes  \n",
       "98               3.50            5.50   C  7/20/2022                  No  \n",
       "99               2.50            4.25   C  7/20/2022                 Yes  \n",
       "\n",
       "[100 rows x 16 columns]"
      ]
     },
     "execution_count": 18,
     "metadata": {},
     "output_type": "execute_result"
    }
   ],
   "source": [
    "import pandas as pd \n",
    "df = pd.read_csv('dulieuxettuyendaihoc.csv',header = 0, delimiter = ',', encoding = 'utf-8')\n",
    "df"
   ]
  },
  {
   "cell_type": "code",
   "execution_count": 19,
   "id": "71300a80",
   "metadata": {},
   "outputs": [
    {
     "name": "stdout",
     "output_type": "stream",
     "text": [
      "1.0 \n",
      " 7.0 \n",
      "\n",
      "3.74 \n",
      " 3.625 \n",
      "\n",
      "0    2.0\n",
      "Name: NGONNGU, dtype: float64 \n",
      "\n",
      "2.5 \n",
      "\n"
     ]
    }
   ],
   "source": [
    "#Bước 1: mô tả biếng định lượng \n",
    "# print(f'{[\"NGONNGU\"].min() } \\n {df[\"NGONNGU\"].max()} \\n')\n",
    "# print(f'{[\"NGONNGU\"].mean()} \\n {df[\"NGONNGU\"].median()} \\n')\n",
    "# print(f'{[\"NGONNGU\"].mode()} \\n')\n",
    "# print(f'{[\"NGONNGU\"].quantile(0.25)}\\n')\n",
    "print(f'{df[\"NGONNGU\"].min()} \\n {df[\"NGONNGU\"].max()} \\n')\n",
    "print(f'{df[\"NGONNGU\"].mean()} \\n {df[\"NGONNGU\"].median()} \\n')\n",
    "print(f'{df[\"NGONNGU\"].mode()} \\n')\n",
    "print(f'{df[\"NGONNGU\"].quantile(0.25)} \\n')"
   ]
  },
  {
   "cell_type": "code",
   "execution_count": 20,
   "id": "3652f5ab",
   "metadata": {},
   "outputs": [
    {
     "data": {
      "text/plain": [
       "1.1600000000000001"
      ]
     },
     "execution_count": 20,
     "metadata": {},
     "output_type": "execute_result"
    }
   ],
   "source": [
    "#Các đại lượng đo lường độ biếng dộng\n",
    "#range \n",
    "df['NGONNGU'].max() - df['NGONNGU'].min()\n",
    "\n",
    "#IQR\n",
    "df['NGONNGU'].quantile(0.75) - df['NGONNGU'].quantile(.25)\n",
    "\n",
    "#Độ lệch trung bình\n",
    "import numpy as np\n",
    "np.mean(np.abs(df['NGONNGU'] - np.mean(df['NGONNGU'])))\n"
   ]
  },
  {
   "cell_type": "code",
   "execution_count": 21,
   "id": "c3e6547d",
   "metadata": {},
   "outputs": [
    {
     "data": {
      "text/plain": [
       "1.4244084364884237"
      ]
     },
     "execution_count": 21,
     "metadata": {},
     "output_type": "execute_result"
    }
   ],
   "source": [
    "#Bai tap\n",
    "#Hãy tính phân vị thứ 9 trong thập phân vị ( gọi là p9)\n",
    "# Cho T5 và T6\n",
    "# Hãy tính khoảng range cho T5 và T6\n",
    "df[['T5','T6']].max() - df[['T5','T6']].min()\n",
    "# Hãy tính khoảng IQR cho T5 và T6\n",
    "df[['T5','T6']].quantile(0.75) - df[['T5','T6']].quantile(.25)\n",
    "# Hãy tính độ lệch chuẩn trung bình cho T5 và T6 \n",
    "np.mean(np.abs(df[['T5','T6']] - np.mean(df[['T5','T6']])))\n",
    "#Tính phương sai (var)\n",
    "df['NGONNGU'].var()\n",
    "#Độ lệch chuẩn (std)\n",
    "df['NGONNGU'].std()"
   ]
  },
  {
   "cell_type": "code",
   "execution_count": 22,
   "id": "55ca2227",
   "metadata": {},
   "outputs": [
    {
     "name": "stdout",
     "output_type": "stream",
     "text": [
      "T5    6.717\n",
      "T6    6.937\n",
      "dtype: float64\n",
      "T5    1.478059\n",
      "T6    1.363200\n",
      "dtype: float64\n"
     ]
    }
   ],
   "source": [
    "#Phương pháp sử dụng std để so sánh\n",
    "#Mức độ biến động của hai hay nhiều biếng số\n",
    "#Ví dụ: Hãy so sánh mức độ ổng định của T5 và T6\n",
    "print(df[['T5','T6']].mean())\n",
    "print(df[['T5','T6']].std())\n",
    "#Lưu ý: cần đảm bảo T5,T6 cùng hệ quy chiếu\n",
    "#(độ đo đơn vị so sánh) và \n",
    "#giá trị trung bình T5 à T6 xấp xỉ nhau\n",
    "\n",
    "#=> ... ổn định hơn"
   ]
  },
  {
   "cell_type": "code",
   "execution_count": 23,
   "id": "e04028e7",
   "metadata": {},
   "outputs": [
    {
     "name": "stdout",
     "output_type": "stream",
     "text": [
      "'TOANLOGICPHANTICH' có mức độ biến động thấp hơn so với 'NGONNGU'\n"
     ]
    }
   ],
   "source": [
    "#Giả sử T5 và T6 không thỏa 2 điều kiện trên thì dùng: \n",
    "# Coffient of Vaniant = std / mean \n",
    "#(CV)\n",
    "\n",
    "# Phương pháp dùng Coffient of variance (CV) để \n",
    "# mức độ biến động của hai hay nhiều biến số\n",
    "# hãy so sánh mức độ biến động của Logic và Ngonngu\n",
    "# df[['LOGIC','NGONNGU']]..\n",
    "# Tính hệ số biến thiên (CV) cho 'TOANLOGICPHANTICH' và 'NGONNGU'\n",
    "cv_toanlogic = df['TOANLOGICPHANTICH'].std() / df['TOANLOGICPHANTICH'].mean()\n",
    "cv_ngonngu = df['NGONNGU'].std() / df['NGONNGU'].mean()\n",
    "\n",
    "# So sánh các giá trị CV\n",
    "if cv_toanlogic > cv_ngonngu:\n",
    "    print(\"'TOANLOGICPHANTICH' có mức độ biến động cao hơn so với 'NGONNGU'\")\n",
    "elif cv_toanlogic < cv_ngonngu:\n",
    "    print(\"'TOANLOGICPHANTICH' có mức độ biến động thấp hơn so với 'NGONNGU'\")\n",
    "else:\n",
    "    print(\"'TOANLOGICPHANTICH' và 'NGONNGU' có mức độ biến động bằng nhau\")\n"
   ]
  },
  {
   "cell_type": "code",
   "execution_count": 24,
   "id": "1e0cc421",
   "metadata": {},
   "outputs": [
    {
     "data": {
      "text/plain": [
       "count    100.000000\n",
       "mean       3.740000\n",
       "std        1.424408\n",
       "min        1.000000\n",
       "25%        2.500000\n",
       "50%        3.625000\n",
       "75%        4.750000\n",
       "max        7.000000\n",
       "Name: NGONNGU, dtype: float64"
      ]
     },
     "execution_count": 24,
     "metadata": {},
     "output_type": "execute_result"
    }
   ],
   "source": [
    "# Mô tả biến định lượng\n",
    "\n",
    "df['NGONNGU'].describe()"
   ]
  },
  {
   "cell_type": "code",
   "execution_count": 25,
   "id": "dc6fb342",
   "metadata": {},
   "outputs": [
    {
     "name": "stdout",
     "output_type": "stream",
     "text": [
      "UNGXU      0.213566\n",
      "LOGIC      0.249131\n",
      "NGONNGU    0.380858\n",
      "dtype: float64\n"
     ]
    }
   ],
   "source": [
    "\n",
    "# So sánh mức độ ổn định của điểm số\n",
    "# trong kì thi đánh giá năng lực\n",
    "# Hãy sắp xếp tăng dần mức độ ổn định trong 3 cột điểm\n",
    "# Gợi ý: hướn dẫn giá trị CV (Cofficient of variant)\n",
    "# Đổi tên cột\n",
    "df.rename(columns={'TOANLOGICPHANTICH': 'LOGIC', 'GIAIQUYETVANDE': 'UNGXU'}, inplace=True)\n",
    "df[['NGONNGU','LOGIC','UNGXU']].describe()\n",
    "# Tính hệ số biến động (CV) cho các cột điểm và sắp xếp theo thứ tự tăng dần của CV\n",
    "cv_result = df[['NGONNGU', 'LOGIC', 'UNGXU']].apply(lambda x: x.std() / x.mean()).sort_values()\n",
    "\n",
    "# In kết quả\n",
    "print(cv_result)"
   ]
  },
  {
   "cell_type": "code",
   "execution_count": 26,
   "id": "02d78530",
   "metadata": {},
   "outputs": [
    {
     "data": {
      "text/plain": [
       "[0.38085787071882987, 0.2491311130540305, 0.2135664058628459]"
      ]
     },
     "execution_count": 26,
     "metadata": {},
     "output_type": "execute_result"
    }
   ],
   "source": [
    "# Hướng dẫn tính nhanh CV\n",
    "cv = df[['NGONNGU', 'LOGIC', 'UNGXU']].std() / df[['NGONNGU', 'LOGIC', 'UNGXU']].mean()\n",
    "list(cv)\n"
   ]
  },
  {
   "cell_type": "code",
   "execution_count": 27,
   "id": "d248003c",
   "metadata": {},
   "outputs": [
    {
     "data": {
      "text/html": [
       "<div>\n",
       "<style scoped>\n",
       "    .dataframe tbody tr th:only-of-type {\n",
       "        vertical-align: middle;\n",
       "    }\n",
       "\n",
       "    .dataframe tbody tr th {\n",
       "        vertical-align: top;\n",
       "    }\n",
       "\n",
       "    .dataframe thead th {\n",
       "        text-align: right;\n",
       "    }\n",
       "</style>\n",
       "<table border=\"1\" class=\"dataframe\">\n",
       "  <thead>\n",
       "    <tr style=\"text-align: right;\">\n",
       "      <th></th>\n",
       "      <th>count</th>\n",
       "      <th>mean</th>\n",
       "      <th>std</th>\n",
       "      <th>min</th>\n",
       "      <th>25%</th>\n",
       "      <th>50%</th>\n",
       "      <th>75%</th>\n",
       "      <th>max</th>\n",
       "    </tr>\n",
       "    <tr>\n",
       "      <th>GT</th>\n",
       "      <th></th>\n",
       "      <th></th>\n",
       "      <th></th>\n",
       "      <th></th>\n",
       "      <th></th>\n",
       "      <th></th>\n",
       "      <th></th>\n",
       "      <th></th>\n",
       "    </tr>\n",
       "  </thead>\n",
       "  <tbody>\n",
       "    <tr>\n",
       "      <th>F</th>\n",
       "      <td>48.0</td>\n",
       "      <td>3.854167</td>\n",
       "      <td>1.348594</td>\n",
       "      <td>1.25</td>\n",
       "      <td>3.1875</td>\n",
       "      <td>3.75</td>\n",
       "      <td>5.0</td>\n",
       "      <td>7.0</td>\n",
       "    </tr>\n",
       "    <tr>\n",
       "      <th>M</th>\n",
       "      <td>52.0</td>\n",
       "      <td>3.634615</td>\n",
       "      <td>1.496288</td>\n",
       "      <td>1.00</td>\n",
       "      <td>2.4375</td>\n",
       "      <td>3.50</td>\n",
       "      <td>4.5</td>\n",
       "      <td>7.0</td>\n",
       "    </tr>\n",
       "  </tbody>\n",
       "</table>\n",
       "</div>"
      ],
      "text/plain": [
       "    count      mean       std   min     25%   50%  75%  max\n",
       "GT                                                         \n",
       "F    48.0  3.854167  1.348594  1.25  3.1875  3.75  5.0  7.0\n",
       "M    52.0  3.634615  1.496288  1.00  2.4375  3.50  4.5  7.0"
      ]
     },
     "execution_count": 27,
     "metadata": {},
     "output_type": "execute_result"
    }
   ],
   "source": [
    "df.groupby('GT')['NGONNGU'].describe()\n",
    "#Câu hỏi: đánh giá xem nhóm giới tính nào thi tốt hơn\n",
    "# Điểm trung bình trong nhóm 'F' (nữ) là 3.854167, trong khi điểm trung bình trong nhóm 'M' (nam) là 3.634615. \n",
    "# Có thể thấy rằng nhóm 'F' có điểm trung bình cao hơn một chút so với nhóm 'M'."
   ]
  },
  {
   "cell_type": "code",
   "execution_count": null,
   "id": "675ded0a",
   "metadata": {},
   "outputs": [],
   "source": [
    "#Câu hỏi đặt ra: \n",
    "#SInh viên có giới tính nam thì môn nào tốt hơn so với nữ "
   ]
  },
  {
   "cell_type": "code",
   "execution_count": 40,
   "id": "d2f57771",
   "metadata": {},
   "outputs": [
    {
     "name": "stdout",
     "output_type": "stream",
     "text": [
      "Hệ số cho T1 (điểm Toán kì 1): 0.0650865515213214\n",
      "Hệ số cho T2 (điểm Toán kì 2): 0.04710699531948316\n"
     ]
    }
   ],
   "source": [
    "# Hãy phân tích sự ảnh hưởng của điểm toán học kì 1,2 năm lớp 12 đến điểm LOGIC\n",
    "import pandas as pd\n",
    "from sklearn.linear_model import LinearRegression\n",
    "\n",
    "# Đọc dữ liệu từ tệp CSV\n",
    "df = pd.read_csv('dulieuxettuyendaihoc.csv', header=0, delimiter=',', encoding='utf-8')\n",
    "\n",
    "# Loại bỏ cột chứa giá trị chuỗi (ví dụ: 'SV001')\n",
    "df = df.drop('MSSV', axis=1)\n",
    "\n",
    "# Chuẩn bị dữ liệu cho mô hình hồi quy tuyến tính\n",
    "X = df[['T1', 'T2']]  # Biến độc lập là điểm Toán học kì 1 và 2\n",
    "y = df['TOANLOGICPHANTICH']  # Biến phụ thuộc là điểm Logic\n",
    "\n",
    "# Tạo mô hình hồi quy tuyến tính\n",
    "model = LinearRegression()\n",
    "model.fit(X, y)  # Huấn luyện mô hình trên dữ liệu\n",
    "\n",
    "# Lấy hệ số cho T1 và T2\n",
    "coef_T1, coef_T2 = model.coef_\n",
    "\n",
    "# In kết quả\n",
    "print(f'Hệ số cho T1 (điểm Toán kì 1): {coef_T1}')\n",
    "print(f'Hệ số cho T2 (điểm Toán kì 2): {coef_T2}')\n"
   ]
  },
  {
   "cell_type": "code",
   "execution_count": 41,
   "id": "8acfa35c",
   "metadata": {},
   "outputs": [
    {
     "name": "stdout",
     "output_type": "stream",
     "text": [
      "Điểm Logic dự đoán khi T5=6.0 và T6=5.5: 4.217343159872923\n"
     ]
    },
    {
     "name": "stderr",
     "output_type": "stream",
     "text": [
      "/Users/nguyenduc/anaconda3/lib/python3.10/site-packages/sklearn/base.py:420: UserWarning: X does not have valid feature names, but LinearRegression was fitted with feature names\n",
      "  warnings.warn(\n"
     ]
    }
   ],
   "source": [
    "# Cho biết nếu T5 = 6.0 và T6 = 5.5 thì dự đoán học sinh đi thi sẽ được điểm LOGIC là nhiêu\n",
    "# Dự đoán điểm Logic khi T5 = 6.0 và T6 = 5.5\n",
    "T5 = 6.0\n",
    "T6 = 5.5\n",
    "predicted_logic = model.predict([[T5, T6]])\n",
    "\n",
    "# In kết quả dự đoán\n",
    "print(f'Điểm Logic dự đoán khi T5={T5} và T6={T6}: {predicted_logic[0]}')"
   ]
  },
  {
   "cell_type": "code",
   "execution_count": null,
   "id": "84f11798",
   "metadata": {},
   "outputs": [],
   "source": []
  }
 ],
 "metadata": {
  "kernelspec": {
   "display_name": "Python 3 (ipykernel)",
   "language": "python",
   "name": "python3"
  },
  "language_info": {
   "codemirror_mode": {
    "name": "ipython",
    "version": 3
   },
   "file_extension": ".py",
   "mimetype": "text/x-python",
   "name": "python",
   "nbconvert_exporter": "python",
   "pygments_lexer": "ipython3",
   "version": "3.10.9"
  }
 },
 "nbformat": 4,
 "nbformat_minor": 5
}
