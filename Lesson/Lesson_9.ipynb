{
 "cells": [
  {
   "cell_type": "code",
   "execution_count": null,
   "id": "99eb3503",
   "metadata": {},
   "outputs": [],
   "source": [
    "# Dựa trên các điểm thi đánh giá năng lực, hãy dự đoán xem sinh viên có định hướng nghề nghiệp hay chưa được định \n",
    "# hướng nghề nghiệp\n",
    "# Input -> model -> Output\n",
    "\n",
    "Input(feature): NN,LG,UX\n",
    "Output(target): ĐH (có 2 giá trị: Y/N)\n",
    "=> Đây là bài toán phân lớp (Classification): giải thuật Logistic \n",
    "    \n",
    "=> Rơi vào kỹ thuật học: Supervised \n",
    "\n",
    "Features -> Model (Logistic) -> Target"
   ]
  },
  {
   "cell_type": "code",
   "execution_count": 1,
   "id": "628d82ab",
   "metadata": {},
   "outputs": [],
   "source": [
    "#Import Thu Vien\n",
    "import numpy as np\n",
    "import pandas as pd\n",
    "import seaborn as sns\n",
    "import matplotlib.pyplot as plt "
   ]
  },
  {
   "cell_type": "code",
   "execution_count": 2,
   "id": "a015a87e",
   "metadata": {},
   "outputs": [
    {
     "data": {
      "text/html": [
       "<div>\n",
       "<style scoped>\n",
       "    .dataframe tbody tr th:only-of-type {\n",
       "        vertical-align: middle;\n",
       "    }\n",
       "\n",
       "    .dataframe tbody tr th {\n",
       "        vertical-align: top;\n",
       "    }\n",
       "\n",
       "    .dataframe thead th {\n",
       "        text-align: right;\n",
       "    }\n",
       "</style>\n",
       "<table border=\"1\" class=\"dataframe\">\n",
       "  <thead>\n",
       "    <tr style=\"text-align: right;\">\n",
       "      <th></th>\n",
       "      <th>NN</th>\n",
       "      <th>LG</th>\n",
       "      <th>UX</th>\n",
       "      <th>DH</th>\n",
       "    </tr>\n",
       "  </thead>\n",
       "  <tbody>\n",
       "    <tr>\n",
       "      <th>0</th>\n",
       "      <td>3.25</td>\n",
       "      <td>3.25</td>\n",
       "      <td>4.50</td>\n",
       "      <td>No</td>\n",
       "    </tr>\n",
       "    <tr>\n",
       "      <th>1</th>\n",
       "      <td>6.00</td>\n",
       "      <td>4.00</td>\n",
       "      <td>3.50</td>\n",
       "      <td>Yes</td>\n",
       "    </tr>\n",
       "    <tr>\n",
       "      <th>2</th>\n",
       "      <td>5.00</td>\n",
       "      <td>6.75</td>\n",
       "      <td>4.00</td>\n",
       "      <td>No</td>\n",
       "    </tr>\n",
       "    <tr>\n",
       "      <th>3</th>\n",
       "      <td>4.25</td>\n",
       "      <td>4.25</td>\n",
       "      <td>5.25</td>\n",
       "      <td>No</td>\n",
       "    </tr>\n",
       "    <tr>\n",
       "      <th>4</th>\n",
       "      <td>4.25</td>\n",
       "      <td>4.50</td>\n",
       "      <td>5.00</td>\n",
       "      <td>No</td>\n",
       "    </tr>\n",
       "    <tr>\n",
       "      <th>5</th>\n",
       "      <td>1.50</td>\n",
       "      <td>4.00</td>\n",
       "      <td>6.00</td>\n",
       "      <td>No</td>\n",
       "    </tr>\n",
       "    <tr>\n",
       "      <th>6</th>\n",
       "      <td>6.50</td>\n",
       "      <td>6.75</td>\n",
       "      <td>5.25</td>\n",
       "      <td>Yes</td>\n",
       "    </tr>\n",
       "    <tr>\n",
       "      <th>7</th>\n",
       "      <td>3.75</td>\n",
       "      <td>4.50</td>\n",
       "      <td>4.25</td>\n",
       "      <td>Yes</td>\n",
       "    </tr>\n",
       "    <tr>\n",
       "      <th>8</th>\n",
       "      <td>3.50</td>\n",
       "      <td>3.50</td>\n",
       "      <td>6.75</td>\n",
       "      <td>Yes</td>\n",
       "    </tr>\n",
       "    <tr>\n",
       "      <th>9</th>\n",
       "      <td>4.00</td>\n",
       "      <td>4.75</td>\n",
       "      <td>5.50</td>\n",
       "      <td>Yes</td>\n",
       "    </tr>\n",
       "  </tbody>\n",
       "</table>\n",
       "</div>"
      ],
      "text/plain": [
       "     NN    LG    UX   DH\n",
       "0  3.25  3.25  4.50   No\n",
       "1  6.00  4.00  3.50  Yes\n",
       "2  5.00  6.75  4.00   No\n",
       "3  4.25  4.25  5.25   No\n",
       "4  4.25  4.50  5.00   No\n",
       "5  1.50  4.00  6.00   No\n",
       "6  6.50  6.75  5.25  Yes\n",
       "7  3.75  4.50  4.25  Yes\n",
       "8  3.50  3.50  6.75  Yes\n",
       "9  4.00  4.75  5.50  Yes"
      ]
     },
     "execution_count": 2,
     "metadata": {},
     "output_type": "execute_result"
    }
   ],
   "source": [
    "#Tai Du Lieu Len Data Frame, dat ten la df\n",
    "df = pd.read_csv('dulieuxettuyendaihoc.csv',header = 0, delimiter = ',', encoding = 'utf-8')\n",
    "\n",
    "df=df[['NGONNGU','TOANLOGICPHANTICH','GIAIQUYETVANDE','DINHHUONGNGHENGHIEP']]\n",
    "\n",
    "df.rename(columns={'NGONNGU':'NN','TOANLOGICPHANTICH':'LG','GIAIQUYETVANDE':'UX','DINHHUONGNGHENGHIEP':'DH'},\n",
    "          inplace=True)\n",
    "\n",
    "df.head(10)"
   ]
  },
  {
   "cell_type": "code",
   "execution_count": 4,
   "id": "37e6472b",
   "metadata": {},
   "outputs": [
    {
     "data": {
      "text/html": [
       "<div>\n",
       "<style scoped>\n",
       "    .dataframe tbody tr th:only-of-type {\n",
       "        vertical-align: middle;\n",
       "    }\n",
       "\n",
       "    .dataframe tbody tr th {\n",
       "        vertical-align: top;\n",
       "    }\n",
       "\n",
       "    .dataframe thead th {\n",
       "        text-align: right;\n",
       "    }\n",
       "</style>\n",
       "<table border=\"1\" class=\"dataframe\">\n",
       "  <thead>\n",
       "    <tr style=\"text-align: right;\">\n",
       "      <th></th>\n",
       "      <th>No</th>\n",
       "      <th>Yes</th>\n",
       "    </tr>\n",
       "  </thead>\n",
       "  <tbody>\n",
       "    <tr>\n",
       "      <th>0</th>\n",
       "      <td>True</td>\n",
       "      <td>False</td>\n",
       "    </tr>\n",
       "    <tr>\n",
       "      <th>1</th>\n",
       "      <td>False</td>\n",
       "      <td>True</td>\n",
       "    </tr>\n",
       "    <tr>\n",
       "      <th>2</th>\n",
       "      <td>True</td>\n",
       "      <td>False</td>\n",
       "    </tr>\n",
       "    <tr>\n",
       "      <th>3</th>\n",
       "      <td>True</td>\n",
       "      <td>False</td>\n",
       "    </tr>\n",
       "    <tr>\n",
       "      <th>4</th>\n",
       "      <td>True</td>\n",
       "      <td>False</td>\n",
       "    </tr>\n",
       "    <tr>\n",
       "      <th>...</th>\n",
       "      <td>...</td>\n",
       "      <td>...</td>\n",
       "    </tr>\n",
       "    <tr>\n",
       "      <th>95</th>\n",
       "      <td>False</td>\n",
       "      <td>True</td>\n",
       "    </tr>\n",
       "    <tr>\n",
       "      <th>96</th>\n",
       "      <td>True</td>\n",
       "      <td>False</td>\n",
       "    </tr>\n",
       "    <tr>\n",
       "      <th>97</th>\n",
       "      <td>False</td>\n",
       "      <td>True</td>\n",
       "    </tr>\n",
       "    <tr>\n",
       "      <th>98</th>\n",
       "      <td>True</td>\n",
       "      <td>False</td>\n",
       "    </tr>\n",
       "    <tr>\n",
       "      <th>99</th>\n",
       "      <td>False</td>\n",
       "      <td>True</td>\n",
       "    </tr>\n",
       "  </tbody>\n",
       "</table>\n",
       "<p>100 rows × 2 columns</p>\n",
       "</div>"
      ],
      "text/plain": [
       "       No    Yes\n",
       "0    True  False\n",
       "1   False   True\n",
       "2    True  False\n",
       "3    True  False\n",
       "4    True  False\n",
       "..    ...    ...\n",
       "95  False   True\n",
       "96   True  False\n",
       "97  False   True\n",
       "98   True  False\n",
       "99  False   True\n",
       "\n",
       "[100 rows x 2 columns]"
      ]
     },
     "execution_count": 4,
     "metadata": {},
     "output_type": "execute_result"
    }
   ],
   "source": [
    "dinhhuong=pd.get_dummies(df['DH'])\n",
    "dinhhuong"
   ]
  },
  {
   "cell_type": "code",
   "execution_count": 5,
   "id": "7dde93b1",
   "metadata": {},
   "outputs": [
    {
     "data": {
      "text/html": [
       "<div>\n",
       "<style scoped>\n",
       "    .dataframe tbody tr th:only-of-type {\n",
       "        vertical-align: middle;\n",
       "    }\n",
       "\n",
       "    .dataframe tbody tr th {\n",
       "        vertical-align: top;\n",
       "    }\n",
       "\n",
       "    .dataframe thead th {\n",
       "        text-align: right;\n",
       "    }\n",
       "</style>\n",
       "<table border=\"1\" class=\"dataframe\">\n",
       "  <thead>\n",
       "    <tr style=\"text-align: right;\">\n",
       "      <th></th>\n",
       "      <th>Yes</th>\n",
       "    </tr>\n",
       "  </thead>\n",
       "  <tbody>\n",
       "    <tr>\n",
       "      <th>0</th>\n",
       "      <td>False</td>\n",
       "    </tr>\n",
       "    <tr>\n",
       "      <th>1</th>\n",
       "      <td>True</td>\n",
       "    </tr>\n",
       "    <tr>\n",
       "      <th>2</th>\n",
       "      <td>False</td>\n",
       "    </tr>\n",
       "    <tr>\n",
       "      <th>3</th>\n",
       "      <td>False</td>\n",
       "    </tr>\n",
       "    <tr>\n",
       "      <th>4</th>\n",
       "      <td>False</td>\n",
       "    </tr>\n",
       "    <tr>\n",
       "      <th>...</th>\n",
       "      <td>...</td>\n",
       "    </tr>\n",
       "    <tr>\n",
       "      <th>95</th>\n",
       "      <td>True</td>\n",
       "    </tr>\n",
       "    <tr>\n",
       "      <th>96</th>\n",
       "      <td>False</td>\n",
       "    </tr>\n",
       "    <tr>\n",
       "      <th>97</th>\n",
       "      <td>True</td>\n",
       "    </tr>\n",
       "    <tr>\n",
       "      <th>98</th>\n",
       "      <td>False</td>\n",
       "    </tr>\n",
       "    <tr>\n",
       "      <th>99</th>\n",
       "      <td>True</td>\n",
       "    </tr>\n",
       "  </tbody>\n",
       "</table>\n",
       "<p>100 rows × 1 columns</p>\n",
       "</div>"
      ],
      "text/plain": [
       "      Yes\n",
       "0   False\n",
       "1    True\n",
       "2   False\n",
       "3   False\n",
       "4   False\n",
       "..    ...\n",
       "95   True\n",
       "96  False\n",
       "97   True\n",
       "98  False\n",
       "99   True\n",
       "\n",
       "[100 rows x 1 columns]"
      ]
     },
     "execution_count": 5,
     "metadata": {},
     "output_type": "execute_result"
    }
   ],
   "source": [
    "dinhhuong.drop('No',axis=1,inplace=True)\n",
    "dinhhuong"
   ]
  },
  {
   "cell_type": "code",
   "execution_count": 6,
   "id": "e383565f",
   "metadata": {},
   "outputs": [
    {
     "data": {
      "text/html": [
       "<div>\n",
       "<style scoped>\n",
       "    .dataframe tbody tr th:only-of-type {\n",
       "        vertical-align: middle;\n",
       "    }\n",
       "\n",
       "    .dataframe tbody tr th {\n",
       "        vertical-align: top;\n",
       "    }\n",
       "\n",
       "    .dataframe thead th {\n",
       "        text-align: right;\n",
       "    }\n",
       "</style>\n",
       "<table border=\"1\" class=\"dataframe\">\n",
       "  <thead>\n",
       "    <tr style=\"text-align: right;\">\n",
       "      <th></th>\n",
       "      <th>NN</th>\n",
       "      <th>LG</th>\n",
       "      <th>UX</th>\n",
       "      <th>DH</th>\n",
       "      <th>Yes</th>\n",
       "    </tr>\n",
       "  </thead>\n",
       "  <tbody>\n",
       "    <tr>\n",
       "      <th>0</th>\n",
       "      <td>3.25</td>\n",
       "      <td>3.25</td>\n",
       "      <td>4.50</td>\n",
       "      <td>No</td>\n",
       "      <td>False</td>\n",
       "    </tr>\n",
       "    <tr>\n",
       "      <th>1</th>\n",
       "      <td>6.00</td>\n",
       "      <td>4.00</td>\n",
       "      <td>3.50</td>\n",
       "      <td>Yes</td>\n",
       "      <td>True</td>\n",
       "    </tr>\n",
       "    <tr>\n",
       "      <th>2</th>\n",
       "      <td>5.00</td>\n",
       "      <td>6.75</td>\n",
       "      <td>4.00</td>\n",
       "      <td>No</td>\n",
       "      <td>False</td>\n",
       "    </tr>\n",
       "    <tr>\n",
       "      <th>3</th>\n",
       "      <td>4.25</td>\n",
       "      <td>4.25</td>\n",
       "      <td>5.25</td>\n",
       "      <td>No</td>\n",
       "      <td>False</td>\n",
       "    </tr>\n",
       "    <tr>\n",
       "      <th>4</th>\n",
       "      <td>4.25</td>\n",
       "      <td>4.50</td>\n",
       "      <td>5.00</td>\n",
       "      <td>No</td>\n",
       "      <td>False</td>\n",
       "    </tr>\n",
       "    <tr>\n",
       "      <th>5</th>\n",
       "      <td>1.50</td>\n",
       "      <td>4.00</td>\n",
       "      <td>6.00</td>\n",
       "      <td>No</td>\n",
       "      <td>False</td>\n",
       "    </tr>\n",
       "    <tr>\n",
       "      <th>6</th>\n",
       "      <td>6.50</td>\n",
       "      <td>6.75</td>\n",
       "      <td>5.25</td>\n",
       "      <td>Yes</td>\n",
       "      <td>True</td>\n",
       "    </tr>\n",
       "    <tr>\n",
       "      <th>7</th>\n",
       "      <td>3.75</td>\n",
       "      <td>4.50</td>\n",
       "      <td>4.25</td>\n",
       "      <td>Yes</td>\n",
       "      <td>True</td>\n",
       "    </tr>\n",
       "    <tr>\n",
       "      <th>8</th>\n",
       "      <td>3.50</td>\n",
       "      <td>3.50</td>\n",
       "      <td>6.75</td>\n",
       "      <td>Yes</td>\n",
       "      <td>True</td>\n",
       "    </tr>\n",
       "    <tr>\n",
       "      <th>9</th>\n",
       "      <td>4.00</td>\n",
       "      <td>4.75</td>\n",
       "      <td>5.50</td>\n",
       "      <td>Yes</td>\n",
       "      <td>True</td>\n",
       "    </tr>\n",
       "  </tbody>\n",
       "</table>\n",
       "</div>"
      ],
      "text/plain": [
       "     NN    LG    UX   DH    Yes\n",
       "0  3.25  3.25  4.50   No  False\n",
       "1  6.00  4.00  3.50  Yes   True\n",
       "2  5.00  6.75  4.00   No  False\n",
       "3  4.25  4.25  5.25   No  False\n",
       "4  4.25  4.50  5.00   No  False\n",
       "5  1.50  4.00  6.00   No  False\n",
       "6  6.50  6.75  5.25  Yes   True\n",
       "7  3.75  4.50  4.25  Yes   True\n",
       "8  3.50  3.50  6.75  Yes   True\n",
       "9  4.00  4.75  5.50  Yes   True"
      ]
     },
     "execution_count": 6,
     "metadata": {},
     "output_type": "execute_result"
    }
   ],
   "source": [
    "#Gan vao DataFrame Ban Dau\n",
    "df = pd.concat([df,dinhhuong],axis=1)\n",
    "df.head(10)"
   ]
  },
  {
   "cell_type": "code",
   "execution_count": 7,
   "id": "789d1afa",
   "metadata": {},
   "outputs": [
    {
     "data": {
      "text/html": [
       "<div>\n",
       "<style scoped>\n",
       "    .dataframe tbody tr th:only-of-type {\n",
       "        vertical-align: middle;\n",
       "    }\n",
       "\n",
       "    .dataframe tbody tr th {\n",
       "        vertical-align: top;\n",
       "    }\n",
       "\n",
       "    .dataframe thead th {\n",
       "        text-align: right;\n",
       "    }\n",
       "</style>\n",
       "<table border=\"1\" class=\"dataframe\">\n",
       "  <thead>\n",
       "    <tr style=\"text-align: right;\">\n",
       "      <th></th>\n",
       "      <th>NN</th>\n",
       "      <th>LG</th>\n",
       "      <th>UX</th>\n",
       "      <th>Yes</th>\n",
       "    </tr>\n",
       "  </thead>\n",
       "  <tbody>\n",
       "    <tr>\n",
       "      <th>0</th>\n",
       "      <td>3.25</td>\n",
       "      <td>3.25</td>\n",
       "      <td>4.50</td>\n",
       "      <td>False</td>\n",
       "    </tr>\n",
       "    <tr>\n",
       "      <th>1</th>\n",
       "      <td>6.00</td>\n",
       "      <td>4.00</td>\n",
       "      <td>3.50</td>\n",
       "      <td>True</td>\n",
       "    </tr>\n",
       "    <tr>\n",
       "      <th>2</th>\n",
       "      <td>5.00</td>\n",
       "      <td>6.75</td>\n",
       "      <td>4.00</td>\n",
       "      <td>False</td>\n",
       "    </tr>\n",
       "    <tr>\n",
       "      <th>3</th>\n",
       "      <td>4.25</td>\n",
       "      <td>4.25</td>\n",
       "      <td>5.25</td>\n",
       "      <td>False</td>\n",
       "    </tr>\n",
       "    <tr>\n",
       "      <th>4</th>\n",
       "      <td>4.25</td>\n",
       "      <td>4.50</td>\n",
       "      <td>5.00</td>\n",
       "      <td>False</td>\n",
       "    </tr>\n",
       "    <tr>\n",
       "      <th>5</th>\n",
       "      <td>1.50</td>\n",
       "      <td>4.00</td>\n",
       "      <td>6.00</td>\n",
       "      <td>False</td>\n",
       "    </tr>\n",
       "    <tr>\n",
       "      <th>6</th>\n",
       "      <td>6.50</td>\n",
       "      <td>6.75</td>\n",
       "      <td>5.25</td>\n",
       "      <td>True</td>\n",
       "    </tr>\n",
       "    <tr>\n",
       "      <th>7</th>\n",
       "      <td>3.75</td>\n",
       "      <td>4.50</td>\n",
       "      <td>4.25</td>\n",
       "      <td>True</td>\n",
       "    </tr>\n",
       "    <tr>\n",
       "      <th>8</th>\n",
       "      <td>3.50</td>\n",
       "      <td>3.50</td>\n",
       "      <td>6.75</td>\n",
       "      <td>True</td>\n",
       "    </tr>\n",
       "    <tr>\n",
       "      <th>9</th>\n",
       "      <td>4.00</td>\n",
       "      <td>4.75</td>\n",
       "      <td>5.50</td>\n",
       "      <td>True</td>\n",
       "    </tr>\n",
       "  </tbody>\n",
       "</table>\n",
       "</div>"
      ],
      "text/plain": [
       "     NN    LG    UX    Yes\n",
       "0  3.25  3.25  4.50  False\n",
       "1  6.00  4.00  3.50   True\n",
       "2  5.00  6.75  4.00  False\n",
       "3  4.25  4.25  5.25  False\n",
       "4  4.25  4.50  5.00  False\n",
       "5  1.50  4.00  6.00  False\n",
       "6  6.50  6.75  5.25   True\n",
       "7  3.75  4.50  4.25   True\n",
       "8  3.50  3.50  6.75   True\n",
       "9  4.00  4.75  5.50   True"
      ]
     },
     "execution_count": 7,
     "metadata": {},
     "output_type": "execute_result"
    }
   ],
   "source": [
    "df.drop('DH',axis=1,inplace=True)\n",
    "df.head(10)\n",
    "#False = 0 , True = 1"
   ]
  },
  {
   "cell_type": "code",
   "execution_count": 8,
   "id": "7cd8b75d",
   "metadata": {},
   "outputs": [],
   "source": [
    "#Tập dữ liệu Input(đặc trưng) và Output(mục tiêu)\n",
    "X = df[['NN','LG','UX']].values #input (Feature)\n",
    "y = df[['Yes']].values #output (Target)"
   ]
  },
  {
   "cell_type": "code",
   "execution_count": 9,
   "id": "d5581f72",
   "metadata": {},
   "outputs": [],
   "source": [
    "#Chia tách ra trainning ( huấn luyện ) và testing (kiểm thử)\n",
    "from sklearn.model_selection import train_test_split\n",
    "X_train,X_test,y_train,y_test = train_test_split(X,y,test_size=0.2,random_state=16 )"
   ]
  },
  {
   "cell_type": "code",
   "execution_count": 11,
   "id": "2cefae72",
   "metadata": {},
   "outputs": [
    {
     "data": {
      "text/html": [
       "<style>#sk-container-id-1 {color: black;background-color: white;}#sk-container-id-1 pre{padding: 0;}#sk-container-id-1 div.sk-toggleable {background-color: white;}#sk-container-id-1 label.sk-toggleable__label {cursor: pointer;display: block;width: 100%;margin-bottom: 0;padding: 0.3em;box-sizing: border-box;text-align: center;}#sk-container-id-1 label.sk-toggleable__label-arrow:before {content: \"▸\";float: left;margin-right: 0.25em;color: #696969;}#sk-container-id-1 label.sk-toggleable__label-arrow:hover:before {color: black;}#sk-container-id-1 div.sk-estimator:hover label.sk-toggleable__label-arrow:before {color: black;}#sk-container-id-1 div.sk-toggleable__content {max-height: 0;max-width: 0;overflow: hidden;text-align: left;background-color: #f0f8ff;}#sk-container-id-1 div.sk-toggleable__content pre {margin: 0.2em;color: black;border-radius: 0.25em;background-color: #f0f8ff;}#sk-container-id-1 input.sk-toggleable__control:checked~div.sk-toggleable__content {max-height: 200px;max-width: 100%;overflow: auto;}#sk-container-id-1 input.sk-toggleable__control:checked~label.sk-toggleable__label-arrow:before {content: \"▾\";}#sk-container-id-1 div.sk-estimator input.sk-toggleable__control:checked~label.sk-toggleable__label {background-color: #d4ebff;}#sk-container-id-1 div.sk-label input.sk-toggleable__control:checked~label.sk-toggleable__label {background-color: #d4ebff;}#sk-container-id-1 input.sk-hidden--visually {border: 0;clip: rect(1px 1px 1px 1px);clip: rect(1px, 1px, 1px, 1px);height: 1px;margin: -1px;overflow: hidden;padding: 0;position: absolute;width: 1px;}#sk-container-id-1 div.sk-estimator {font-family: monospace;background-color: #f0f8ff;border: 1px dotted black;border-radius: 0.25em;box-sizing: border-box;margin-bottom: 0.5em;}#sk-container-id-1 div.sk-estimator:hover {background-color: #d4ebff;}#sk-container-id-1 div.sk-parallel-item::after {content: \"\";width: 100%;border-bottom: 1px solid gray;flex-grow: 1;}#sk-container-id-1 div.sk-label:hover label.sk-toggleable__label {background-color: #d4ebff;}#sk-container-id-1 div.sk-serial::before {content: \"\";position: absolute;border-left: 1px solid gray;box-sizing: border-box;top: 0;bottom: 0;left: 50%;z-index: 0;}#sk-container-id-1 div.sk-serial {display: flex;flex-direction: column;align-items: center;background-color: white;padding-right: 0.2em;padding-left: 0.2em;position: relative;}#sk-container-id-1 div.sk-item {position: relative;z-index: 1;}#sk-container-id-1 div.sk-parallel {display: flex;align-items: stretch;justify-content: center;background-color: white;position: relative;}#sk-container-id-1 div.sk-item::before, #sk-container-id-1 div.sk-parallel-item::before {content: \"\";position: absolute;border-left: 1px solid gray;box-sizing: border-box;top: 0;bottom: 0;left: 50%;z-index: -1;}#sk-container-id-1 div.sk-parallel-item {display: flex;flex-direction: column;z-index: 1;position: relative;background-color: white;}#sk-container-id-1 div.sk-parallel-item:first-child::after {align-self: flex-end;width: 50%;}#sk-container-id-1 div.sk-parallel-item:last-child::after {align-self: flex-start;width: 50%;}#sk-container-id-1 div.sk-parallel-item:only-child::after {width: 0;}#sk-container-id-1 div.sk-dashed-wrapped {border: 1px dashed gray;margin: 0 0.4em 0.5em 0.4em;box-sizing: border-box;padding-bottom: 0.4em;background-color: white;}#sk-container-id-1 div.sk-label label {font-family: monospace;font-weight: bold;display: inline-block;line-height: 1.2em;}#sk-container-id-1 div.sk-label-container {text-align: center;}#sk-container-id-1 div.sk-container {/* jupyter's `normalize.less` sets `[hidden] { display: none; }` but bootstrap.min.css set `[hidden] { display: none !important; }` so we also need the `!important` here to be able to override the default hidden behavior on the sphinx rendered scikit-learn.org. See: https://github.com/scikit-learn/scikit-learn/issues/21755 */display: inline-block !important;position: relative;}#sk-container-id-1 div.sk-text-repr-fallback {display: none;}</style><div id=\"sk-container-id-1\" class=\"sk-top-container\"><div class=\"sk-text-repr-fallback\"><pre>LogisticRegression()</pre><b>In a Jupyter environment, please rerun this cell to show the HTML representation or trust the notebook. <br />On GitHub, the HTML representation is unable to render, please try loading this page with nbviewer.org.</b></div><div class=\"sk-container\" hidden><div class=\"sk-item\"><div class=\"sk-estimator sk-toggleable\"><input class=\"sk-toggleable__control sk-hidden--visually\" id=\"sk-estimator-id-1\" type=\"checkbox\" checked><label for=\"sk-estimator-id-1\" class=\"sk-toggleable__label sk-toggleable__label-arrow\">LogisticRegression</label><div class=\"sk-toggleable__content\"><pre>LogisticRegression()</pre></div></div></div></div></div>"
      ],
      "text/plain": [
       "LogisticRegression()"
      ]
     },
     "execution_count": 11,
     "metadata": {},
     "output_type": "execute_result"
    }
   ],
   "source": [
    "from sklearn.linear_model import LogisticRegression\n",
    "model = LogisticRegression()\n",
    "model.fit(X_train, y_train.flatten())\n"
   ]
  },
  {
   "cell_type": "code",
   "execution_count": 13,
   "id": "1ec193be",
   "metadata": {},
   "outputs": [
    {
     "data": {
      "text/plain": [
       "array([[ 0.31978112, -0.04309514,  0.02891314]])"
      ]
     },
     "execution_count": 13,
     "metadata": {},
     "output_type": "execute_result"
    }
   ],
   "source": [
    "model.coef_"
   ]
  },
  {
   "cell_type": "code",
   "execution_count": 15,
   "id": "f02b4759",
   "metadata": {},
   "outputs": [
    {
     "data": {
      "text/plain": [
       "array([-1.29714816])"
      ]
     },
     "execution_count": 15,
     "metadata": {},
     "output_type": "execute_result"
    }
   ],
   "source": [
    "model.intercept_"
   ]
  },
  {
   "cell_type": "code",
   "execution_count": null,
   "id": "fa91b931",
   "metadata": {},
   "outputs": [],
   "source": [
    "Z(Định hướng) = -1.29714816 + 0.31978112 * NN  + (- 0.04309514) * LG + 0.02891314 * UX\n",
    "|\n",
    "|    f(z) = 1 / ( 1 + e ^ -2 ) : Hàm Sigmoid ( e: cơ số tự nhiên )\n",
    "V \n",
    "Z' thuộc [0,1]\n",
    "|\n",
    "|     Threshold (ngưỡng) = 0.5 (ngưỡng mặc định 0.5) \n",
    "V\n",
    "Nếu: + nhỏ hơn ngưỡng : 0\n",
    "     + lớn hơn ngưỡng : 1   "
   ]
  },
  {
   "cell_type": "code",
   "execution_count": null,
   "id": "88165bdb",
   "metadata": {},
   "outputs": [],
   "source": [
    "#Với điểm NN là 3.75, LG: 4.5, UX: 4.25\n",
    "#Thí sinh viên có định hướng nghề nghiệp hay không\n",
    "#Đáp án: Yes = ?\n",
    "z = -1.29714816 + 0.31978112 * 3.75  + (- 0.04309514) * 4.5 + 0.02891314 * 4.25"
   ]
  },
  {
   "cell_type": "code",
   "execution_count": null,
   "id": "91a8c05f",
   "metadata": {},
   "outputs": [],
   "source": [
    "Z(Định hướng) = -1.29714816 + 0.31978112 * 3.75  + (- 0.04309514) * 4.5 + 0.02891314 * 4.25 = -0.169\n",
    "|\n",
    "|    f(z) = 1 / ( 1 + e ^ (-Z) ) : Hàm Sigmoid ( e: cơ số tự nhiên )\n",
    "V \n",
    "Z' thuộc [0,1] = 0.45784623975\n",
    "|\n",
    "|     Threshold (ngưỡng) = 0.5 (ngưỡng mặc định 0.5) \n",
    "V\n",
    "vì Z' < 0.5 nên thí sinh đó chưa được định hướng\n",
    "=> Yes = 0 "
   ]
  },
  {
   "cell_type": "code",
   "execution_count": null,
   "id": "1f0e661b",
   "metadata": {},
   "outputs": [],
   "source": [
    "NN = 4.75\n",
    "LG = 2.0\n",
    "UX = 5.5 \n",
    "z = -1.29714816 + 0.31978112 * 4.75  + (- 0.04309514) * 2 + 0.02891314 * 5.5 = 0.29464415\n",
    "Z(Định hướng) = -1.29714816 + 0.31978112 * 4.75  + (- 0.04309514) * 2 + 0.02891314 * 5.5 = 0.29464415\n",
    "|\n",
    "|    f(z) = 1 / ( 1 + e ^ (-Z) ) : Hàm Sigmoid ( e: cơ số tự nhiên )\n",
    "V \n",
    "Z' thuộc [0,1] = 0.57313271567\n",
    "|\n",
    "|     Threshold (ngưỡng) = 0.5 (ngưỡng mặc định 0.5) \n",
    "V\n",
    "vì Z' > 0.5 nên thí sinh đó được định hướng\n",
    "=> Yes = 1"
   ]
  },
  {
   "cell_type": "code",
   "execution_count": 16,
   "id": "cede564b",
   "metadata": {},
   "outputs": [
    {
     "data": {
      "text/plain": [
       "array([[3.75, 4.5 , 4.25],\n",
       "       [4.75, 2.  , 5.5 ],\n",
       "       [3.5 , 4.75, 3.5 ],\n",
       "       [5.75, 3.5 , 4.25],\n",
       "       [4.75, 6.5 , 8.  ],\n",
       "       [2.75, 3.75, 5.  ],\n",
       "       [2.25, 3.5 , 5.  ],\n",
       "       [3.75, 4.  , 3.5 ],\n",
       "       [2.  , 5.25, 3.5 ],\n",
       "       [4.  , 4.75, 5.5 ],\n",
       "       [5.  , 4.  , 6.75],\n",
       "       [2.5 , 3.5 , 6.5 ],\n",
       "       [5.25, 4.5 , 4.75],\n",
       "       [4.25, 2.75, 3.25],\n",
       "       [5.  , 3.5 , 5.5 ],\n",
       "       [1.5 , 4.5 , 5.5 ],\n",
       "       [4.75, 4.75, 4.5 ],\n",
       "       [6.5 , 4.5 , 8.  ],\n",
       "       [2.25, 4.  , 4.25],\n",
       "       [2.5 , 2.75, 5.5 ]])"
      ]
     },
     "execution_count": 16,
     "metadata": {},
     "output_type": "execute_result"
    }
   ],
   "source": [
    "X_test"
   ]
  },
  {
   "cell_type": "code",
   "execution_count": 17,
   "id": "bfdadba1",
   "metadata": {},
   "outputs": [
    {
     "data": {
      "text/plain": [
       "array([False,  True, False,  True,  True, False, False, False, False,\n",
       "       False,  True, False,  True,  True,  True, False,  True,  True,\n",
       "       False, False])"
      ]
     },
     "execution_count": 17,
     "metadata": {},
     "output_type": "execute_result"
    }
   ],
   "source": [
    "#Default threshold is 0.5\n",
    "y_pred_test = model.predict(X_test)\n",
    "y_pred_test\n",
    "\n",
    "#True = 1, False = 0"
   ]
  },
  {
   "cell_type": "code",
   "execution_count": 18,
   "id": "4f9cca8b",
   "metadata": {},
   "outputs": [
    {
     "name": "stdout",
     "output_type": "stream",
     "text": [
      "[[0.54215376 0.45784624]\n",
      " [0.42686728 0.57313272]\n",
      " [0.56989436 0.43010564]\n",
      " [0.37434035 0.62565965]\n",
      " [0.45685782 0.54314218]\n",
      " [0.60701717 0.39298283]\n",
      " [0.64196612 0.35803388]\n",
      " [0.54218784 0.45781216]\n",
      " [0.68624869 0.31375131]\n",
      " [0.51592045 0.48407955]\n",
      " [0.41956957 0.58043043]\n",
      " [0.61315482 0.38684518]\n",
      " [0.41943042 0.58056958]\n",
      " [0.49065667 0.50934333]\n",
      " [0.42312774 0.57687226]\n",
      " [0.70106665 0.29893335]\n",
      " [0.46326149 0.53673851]\n",
      " [0.30601715 0.69398285]\n",
      " [0.65184076 0.34815924]\n",
      " [0.6123461  0.3876539 ]]\n"
     ]
    }
   ],
   "source": [
    "print(model.predict_proba(X_test))\n",
    "\n",
    "# 0.54215376: Xác suất dự báo cho No\n",
    "# hay nói cách khác là giá trị mô hình sau khi đi qua hàm 1 / ( 1 + e ^ (-Z) )\n",
    "# với Target No = 1 : là không có định hướng \n",
    "\n",
    "\n",
    "# 0.45784624: Xác suất dự báo cho Yes\n",
    "# hay nói cách khác là giá trị mô hình sau khi đi qua hàm 1 / ( 1 + e ^ (-Z) )\n",
    "# với Target Yes = 0 là chưa được định hướng \n",
    "\n",
    "# [No       ,Yes       ] "
   ]
  },
  {
   "cell_type": "code",
   "execution_count": 20,
   "id": "cb8a26f1",
   "metadata": {},
   "outputs": [
    {
     "name": "stdout",
     "output_type": "stream",
     "text": [
      "prediction with threshold 0.65: \n"
     ]
    },
    {
     "data": {
      "text/plain": [
       "array([0, 0, 0, 0, 0, 0, 0, 0, 0, 0, 0, 0, 0, 0, 0, 0, 0, 1, 0, 0])"
      ]
     },
     "execution_count": 20,
     "metadata": {},
     "output_type": "execute_result"
    }
   ],
   "source": [
    "#Changing Chreshold and Perdicting \n",
    "print('prediction with threshold 0.65: ')\n",
    "y_pred_test_new_threshold = (model.predict_proba(X_test)[:,1] >= 0.65).astype(int)\n",
    "y_pred_test_new_threshold\n",
    "\n",
    "#Note: Giá trị Threshold càng cao và khắt khe thì số 0 càng nhiều và ngược lại số 1 càng nhiều"
   ]
  },
  {
   "cell_type": "code",
   "execution_count": 23,
   "id": "22f18813",
   "metadata": {},
   "outputs": [
    {
     "data": {
      "text/html": [
       "<div>\n",
       "<style scoped>\n",
       "    .dataframe tbody tr th:only-of-type {\n",
       "        vertical-align: middle;\n",
       "    }\n",
       "\n",
       "    .dataframe tbody tr th {\n",
       "        vertical-align: top;\n",
       "    }\n",
       "\n",
       "    .dataframe thead th {\n",
       "        text-align: right;\n",
       "    }\n",
       "</style>\n",
       "<table border=\"1\" class=\"dataframe\">\n",
       "  <thead>\n",
       "    <tr style=\"text-align: right;\">\n",
       "      <th></th>\n",
       "      <th>Actual</th>\n",
       "      <th>Predicted</th>\n",
       "    </tr>\n",
       "  </thead>\n",
       "  <tbody>\n",
       "    <tr>\n",
       "      <th>0</th>\n",
       "      <td>True</td>\n",
       "      <td>False</td>\n",
       "    </tr>\n",
       "    <tr>\n",
       "      <th>1</th>\n",
       "      <td>False</td>\n",
       "      <td>True</td>\n",
       "    </tr>\n",
       "    <tr>\n",
       "      <th>2</th>\n",
       "      <td>True</td>\n",
       "      <td>False</td>\n",
       "    </tr>\n",
       "    <tr>\n",
       "      <th>3</th>\n",
       "      <td>True</td>\n",
       "      <td>True</td>\n",
       "    </tr>\n",
       "    <tr>\n",
       "      <th>4</th>\n",
       "      <td>False</td>\n",
       "      <td>True</td>\n",
       "    </tr>\n",
       "    <tr>\n",
       "      <th>5</th>\n",
       "      <td>False</td>\n",
       "      <td>False</td>\n",
       "    </tr>\n",
       "    <tr>\n",
       "      <th>6</th>\n",
       "      <td>False</td>\n",
       "      <td>False</td>\n",
       "    </tr>\n",
       "    <tr>\n",
       "      <th>7</th>\n",
       "      <td>True</td>\n",
       "      <td>False</td>\n",
       "    </tr>\n",
       "    <tr>\n",
       "      <th>8</th>\n",
       "      <td>False</td>\n",
       "      <td>False</td>\n",
       "    </tr>\n",
       "    <tr>\n",
       "      <th>9</th>\n",
       "      <td>True</td>\n",
       "      <td>False</td>\n",
       "    </tr>\n",
       "    <tr>\n",
       "      <th>10</th>\n",
       "      <td>False</td>\n",
       "      <td>True</td>\n",
       "    </tr>\n",
       "    <tr>\n",
       "      <th>11</th>\n",
       "      <td>True</td>\n",
       "      <td>False</td>\n",
       "    </tr>\n",
       "    <tr>\n",
       "      <th>12</th>\n",
       "      <td>False</td>\n",
       "      <td>True</td>\n",
       "    </tr>\n",
       "    <tr>\n",
       "      <th>13</th>\n",
       "      <td>False</td>\n",
       "      <td>True</td>\n",
       "    </tr>\n",
       "    <tr>\n",
       "      <th>14</th>\n",
       "      <td>False</td>\n",
       "      <td>True</td>\n",
       "    </tr>\n",
       "    <tr>\n",
       "      <th>15</th>\n",
       "      <td>False</td>\n",
       "      <td>False</td>\n",
       "    </tr>\n",
       "    <tr>\n",
       "      <th>16</th>\n",
       "      <td>False</td>\n",
       "      <td>True</td>\n",
       "    </tr>\n",
       "    <tr>\n",
       "      <th>17</th>\n",
       "      <td>True</td>\n",
       "      <td>True</td>\n",
       "    </tr>\n",
       "    <tr>\n",
       "      <th>18</th>\n",
       "      <td>True</td>\n",
       "      <td>False</td>\n",
       "    </tr>\n",
       "    <tr>\n",
       "      <th>19</th>\n",
       "      <td>False</td>\n",
       "      <td>False</td>\n",
       "    </tr>\n",
       "  </tbody>\n",
       "</table>\n",
       "</div>"
      ],
      "text/plain": [
       "    Actual  Predicted\n",
       "0     True      False\n",
       "1    False       True\n",
       "2     True      False\n",
       "3     True       True\n",
       "4    False       True\n",
       "5    False      False\n",
       "6    False      False\n",
       "7     True      False\n",
       "8    False      False\n",
       "9     True      False\n",
       "10   False       True\n",
       "11    True      False\n",
       "12   False       True\n",
       "13   False       True\n",
       "14   False       True\n",
       "15   False      False\n",
       "16   False       True\n",
       "17    True       True\n",
       "18    True      False\n",
       "19   False      False"
      ]
     },
     "execution_count": 23,
     "metadata": {},
     "output_type": "execute_result"
    }
   ],
   "source": [
    "#Default threshold = 0.5 \n",
    "result = pd.DataFrame({'Actual': y_test.flatten(), 'Predicted': y_pred_test})\n",
    "result\n",
    "#So Truong Hop Dung = 7 voi ti le la 7/20 = 35% (Accuracy: Độ chính xác)"
   ]
  },
  {
   "cell_type": "code",
   "execution_count": 25,
   "id": "b8f7425e",
   "metadata": {},
   "outputs": [
    {
     "data": {
      "text/plain": [
       "0.35"
      ]
     },
     "execution_count": 25,
     "metadata": {},
     "output_type": "execute_result"
    }
   ],
   "source": [
    "from sklearn.metrics import accuracy_score\n",
    "accuracy_score(y_test,y_pred_test)"
   ]
  },
  {
   "cell_type": "markdown",
   "id": "a05a6b08",
   "metadata": {},
   "source": [
    "# SELF-STUDY"
   ]
  },
  {
   "cell_type": "code",
   "execution_count": null,
   "id": "e7bc3a90",
   "metadata": {},
   "outputs": [],
   "source": [
    "TP (Actual = 1 , Predicted = 1) = 2\n",
    "FP (Actual = 0 , Predicted = 1) = 7\n",
    "FN (Act = 1    , Pred = 0     ) = 6\n",
    "TN (Act = 0    , Pre = 0      ) = 5\n",
    "=> TP va TN Cho biết số lượng case trường hợp dự báo đúng\n",
    "\n",
    "Accuracy = TP + TN / (TP + TN + FP + FN)\n",
    "\n",
    "\n",
    "       Actual\n",
    "    ---------->\n",
    "P      0    1\n",
    "R  |0 TN | FP \n",
    "E  |  -   - \n",
    "D  |1 FN | TP \n",
    "\n",
    "Confusion Matrix "
   ]
  },
  {
   "cell_type": "code",
   "execution_count": 26,
   "id": "8660dc43",
   "metadata": {},
   "outputs": [
    {
     "data": {
      "text/plain": [
       "array([[5, 7],\n",
       "       [6, 2]])"
      ]
     },
     "execution_count": 26,
     "metadata": {},
     "output_type": "execute_result"
    }
   ],
   "source": [
    "from sklearn.metrics import confusion_matrix\n",
    "cf_matrix = confusion_matrix(y_test,y_pred_test)\n",
    "cf_matrix \n",
    "\n",
    "# Giá trị\n",
    "# TP (Actual = 1, Predicted = 1) = 2\n",
    "# FP (Actual = 0, Predicted = 1) = 7\n",
    "# FN (Actual = 1, Predicted = 0) = 6\n",
    "# TN (Actual = 0, Predicted = 0) = 5"
   ]
  },
  {
   "cell_type": "code",
   "execution_count": 27,
   "id": "55854ac0",
   "metadata": {},
   "outputs": [
    {
     "data": {
      "image/png": "[encoded data removed]",
      "text/plain": [
       "<Figure size 640x480 with 2 Axes>"
      ]
     },
     "metadata": {},
     "output_type": "display_data"
    }
   ],
   "source": [
    "sns.heatmap(pd.DataFrame(cf_matrix),annot=True,cmap='YlGnBu',fmt='g')\n",
    "plt.title('Confusion matrix', y=1.1)\n",
    "plt.ylabel('Actual label')\n",
    "plt.xlabel('Predicted label')\n",
    "plt.show()"
   ]
  },
  {
   "cell_type": "code",
   "execution_count": null,
   "id": "e8de1de5",
   "metadata": {},
   "outputs": [],
   "source": [
    "# Các độ đo đánh giá mô hình phân lớp\n",
    "# N la số lượng mẫu = TP+FP+FN+TN\n",
    "# TP, FP, FN, WN\n",
    "# accuracy = (TP+TN)/ (TP+FP+FN+TN)\n",
    "# Precision = TP/(TP+FP)\n",
    "# Recall = TP/(TP+EN)\n",
    "# F1-Score = 2\"Precision*Recall/(Precision+Recall)"
   ]
  },
  {
   "cell_type": "code",
   "execution_count": 28,
   "id": "ff2dcb2b",
   "metadata": {},
   "outputs": [
    {
     "name": "stdout",
     "output_type": "stream",
     "text": [
      "                  precision    recall  f1-score   support\n",
      "\n",
      "Không định hướng       0.45      0.42      0.43        12\n",
      "      Định hướng       0.22      0.25      0.24         8\n",
      "\n",
      "        accuracy                           0.35        20\n",
      "       macro avg       0.34      0.33      0.34        20\n",
      "    weighted avg       0.36      0.35      0.35        20\n",
      "\n"
     ]
    }
   ],
   "source": [
    "from sklearn.metrics import classification_report\n",
    "target_names = ['Không định hướng','Định hướng']\n",
    "print(classification_report(y_test,y_pred_test,target_names=target_names))"
   ]
  },
  {
   "cell_type": "code",
   "execution_count": null,
   "id": "aab69d6e",
   "metadata": {},
   "outputs": [],
   "source": [
    "# Đồ thị AUC & ROC Curve \n"
   ]
  },
  {
   "cell_type": "code",
   "execution_count": 29,
   "id": "024ed69a",
   "metadata": {},
   "outputs": [],
   "source": [
    "#Lưu trữ mô hình phân loại xuống thiết bị lưu trữ với tên Model_logistic_regression.sav\n",
    "import pickle\n",
    "pickle.dump(model,open('model_logistic_regression.sav','wb'))"
   ]
  },
  {
   "cell_type": "code",
   "execution_count": 34,
   "id": "18a6a918",
   "metadata": {},
   "outputs": [
    {
     "name": "stdout",
     "output_type": "stream",
     "text": [
      "Điểm Ngôn Ngữ: 6.5\n",
      "Điểm Logic: 4.5\n",
      "Điểm Ứng Xử: 8\n",
      "Dự báo định hướng: True\n"
     ]
    }
   ],
   "source": [
    "#Sinh viên có định hướng hay không\n",
    "import pickle \n",
    "#Load model from storage\n",
    "loaded_model=pickle.load(open('model_logistic_regression.sav','rb'))\n",
    "\n",
    "vNN = float(input('Điểm Ngôn Ngữ: '))\n",
    "vLG = float(input('Điểm Logic: '))\n",
    "vUX = float(input('Điểm Ứng Xử: '))\n",
    "\n",
    "y_pred = loaded_model.predict([[vNN,vLG,vUX]])\n",
    "print('Dự báo định hướng: '+str(y_pred[0]))"
   ]
  },
  {
   "cell_type": "code",
   "execution_count": null,
   "id": "82550bb7",
   "metadata": {},
   "outputs": [],
   "source": []
  }
 ],
 "metadata": {
  "kernelspec": {
   "display_name": "Python 3 (ipykernel)",
   "language": "python",
   "name": "python3"
  },
  "language_info": {
   "codemirror_mode": {
    "name": "ipython",
    "version": 3
   },
   "file_extension": ".py",
   "mimetype": "text/x-python",
   "name": "python",
   "nbconvert_exporter": "python",
   "pygments_lexer": "ipython3",
   "version": "3.10.9"
  }
 },
 "nbformat": 4,
 "nbformat_minor": 5
}
