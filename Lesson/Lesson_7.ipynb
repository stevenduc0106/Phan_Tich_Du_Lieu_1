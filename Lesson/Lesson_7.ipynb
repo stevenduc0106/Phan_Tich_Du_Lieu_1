{
 "cells": [
  {
   "cell_type": "code",
   "execution_count": null,
   "id": "9b826aab",
   "metadata": {},
   "outputs": [],
   "source": [
    "PipelIne_1                       (80%)     \n",
    "                               - train(x_train,y_train)  --> Model |\n",
    "Input: (100%):Cross Valiation                                       -> Validation     --> Deployment --> FeedBack \n",
    "                               - test (x_test,y_test)    --> Model |\n",
    "                                 (20%)\n",
    "------------Input-------------         -----Output-----\n",
    "Giá xăng           Giá Vàng                Nhà trọ \n",
    "(ngàn/lít)       (triệu/lượng)          (triệu/tháng)\n",
    "25000               65000000               2800000\n",
    "24000               67000000               2700000\n",
    "\n"
   ]
  },
  {
   "cell_type": "code",
   "execution_count": 2,
   "id": "dfb41311",
   "metadata": {},
   "outputs": [
    {
     "data": {
      "text/html": [
       "<div>\n",
       "<style scoped>\n",
       "    .dataframe tbody tr th:only-of-type {\n",
       "        vertical-align: middle;\n",
       "    }\n",
       "\n",
       "    .dataframe tbody tr th {\n",
       "        vertical-align: top;\n",
       "    }\n",
       "\n",
       "    .dataframe thead th {\n",
       "        text-align: right;\n",
       "    }\n",
       "</style>\n",
       "<table border=\"1\" class=\"dataframe\">\n",
       "  <thead>\n",
       "    <tr style=\"text-align: right;\">\n",
       "      <th></th>\n",
       "      <th>MSSV</th>\n",
       "      <th>T1</th>\n",
       "      <th>T2</th>\n",
       "      <th>T3</th>\n",
       "      <th>T4</th>\n",
       "      <th>T5</th>\n",
       "      <th>T6</th>\n",
       "      <th>GT</th>\n",
       "      <th>DT</th>\n",
       "      <th>KV</th>\n",
       "      <th>NGONNGU</th>\n",
       "      <th>TOANLOGICPHANTICH</th>\n",
       "      <th>GIAIQUYETVANDE</th>\n",
       "      <th>KT</th>\n",
       "      <th>NGAYTHI</th>\n",
       "      <th>DINHHUONGNGHENGHIEP</th>\n",
       "    </tr>\n",
       "  </thead>\n",
       "  <tbody>\n",
       "    <tr>\n",
       "      <th>0</th>\n",
       "      <td>SV001</td>\n",
       "      <td>7.2</td>\n",
       "      <td>8.4</td>\n",
       "      <td>7.4</td>\n",
       "      <td>7.2</td>\n",
       "      <td>7.4</td>\n",
       "      <td>6.9</td>\n",
       "      <td>F</td>\n",
       "      <td>NaN</td>\n",
       "      <td>2NT</td>\n",
       "      <td>3.25</td>\n",
       "      <td>3.25</td>\n",
       "      <td>4.50</td>\n",
       "      <td>A1</td>\n",
       "      <td>12/7/2018</td>\n",
       "      <td>No</td>\n",
       "    </tr>\n",
       "    <tr>\n",
       "      <th>1</th>\n",
       "      <td>SV002</td>\n",
       "      <td>5.4</td>\n",
       "      <td>6.3</td>\n",
       "      <td>4.3</td>\n",
       "      <td>4.9</td>\n",
       "      <td>3.0</td>\n",
       "      <td>4.0</td>\n",
       "      <td>M</td>\n",
       "      <td>NaN</td>\n",
       "      <td>1</td>\n",
       "      <td>6.00</td>\n",
       "      <td>4.00</td>\n",
       "      <td>3.50</td>\n",
       "      <td>C</td>\n",
       "      <td>12/7/2018</td>\n",
       "      <td>Yes</td>\n",
       "    </tr>\n",
       "    <tr>\n",
       "      <th>2</th>\n",
       "      <td>SV003</td>\n",
       "      <td>5.6</td>\n",
       "      <td>5.0</td>\n",
       "      <td>2.8</td>\n",
       "      <td>6.1</td>\n",
       "      <td>4.8</td>\n",
       "      <td>5.7</td>\n",
       "      <td>M</td>\n",
       "      <td>NaN</td>\n",
       "      <td>1</td>\n",
       "      <td>5.00</td>\n",
       "      <td>6.75</td>\n",
       "      <td>4.00</td>\n",
       "      <td>C</td>\n",
       "      <td>12/7/2018</td>\n",
       "      <td>No</td>\n",
       "    </tr>\n",
       "    <tr>\n",
       "      <th>3</th>\n",
       "      <td>SV004</td>\n",
       "      <td>6.6</td>\n",
       "      <td>5.1</td>\n",
       "      <td>5.9</td>\n",
       "      <td>4.1</td>\n",
       "      <td>6.1</td>\n",
       "      <td>7.4</td>\n",
       "      <td>M</td>\n",
       "      <td>NaN</td>\n",
       "      <td>1</td>\n",
       "      <td>4.25</td>\n",
       "      <td>4.25</td>\n",
       "      <td>5.25</td>\n",
       "      <td>D1</td>\n",
       "      <td>12/7/2018</td>\n",
       "      <td>No</td>\n",
       "    </tr>\n",
       "    <tr>\n",
       "      <th>4</th>\n",
       "      <td>SV005</td>\n",
       "      <td>6.0</td>\n",
       "      <td>5.4</td>\n",
       "      <td>7.6</td>\n",
       "      <td>4.4</td>\n",
       "      <td>6.8</td>\n",
       "      <td>8.0</td>\n",
       "      <td>M</td>\n",
       "      <td>NaN</td>\n",
       "      <td>2NT</td>\n",
       "      <td>4.25</td>\n",
       "      <td>4.50</td>\n",
       "      <td>5.00</td>\n",
       "      <td>A</td>\n",
       "      <td>12/7/2018</td>\n",
       "      <td>No</td>\n",
       "    </tr>\n",
       "  </tbody>\n",
       "</table>\n",
       "</div>"
      ],
      "text/plain": [
       "    MSSV   T1   T2   T3   T4   T5   T6 GT  DT   KV  NGONNGU  \\\n",
       "0  SV001  7.2  8.4  7.4  7.2  7.4  6.9  F NaN  2NT     3.25   \n",
       "1  SV002  5.4  6.3  4.3  4.9  3.0  4.0  M NaN    1     6.00   \n",
       "2  SV003  5.6  5.0  2.8  6.1  4.8  5.7  M NaN    1     5.00   \n",
       "3  SV004  6.6  5.1  5.9  4.1  6.1  7.4  M NaN    1     4.25   \n",
       "4  SV005  6.0  5.4  7.6  4.4  6.8  8.0  M NaN  2NT     4.25   \n",
       "\n",
       "   TOANLOGICPHANTICH  GIAIQUYETVANDE  KT    NGAYTHI DINHHUONGNGHENGHIEP  \n",
       "0               3.25            4.50  A1  12/7/2018                  No  \n",
       "1               4.00            3.50   C  12/7/2018                 Yes  \n",
       "2               6.75            4.00   C  12/7/2018                  No  \n",
       "3               4.25            5.25  D1  12/7/2018                  No  \n",
       "4               4.50            5.00   A  12/7/2018                  No  "
      ]
     },
     "execution_count": 2,
     "metadata": {},
     "output_type": "execute_result"
    }
   ],
   "source": [
    "#Import Thu Vien\n",
    "import pandas as pd\n",
    "import seaborn as sns\n",
    "import matplotlib.pyplot as plt \n",
    "\n",
    "#Tai Du Lieu Len Data Frame, dat ten la df\n",
    "df = pd.read_csv('dulieuxettuyendaihoc.csv',header = 0, delimiter = ',', encoding = 'utf-8')\n",
    "df.head()"
   ]
  },
  {
   "cell_type": "code",
   "execution_count": 3,
   "id": "dcf5447f",
   "metadata": {},
   "outputs": [],
   "source": [
    "df=df[['T5','T6','NGONNGU']]\n",
    "\n",
    "#Tập dữ liệu Input(đặc trưng) và Output(mục tiêu)\n",
    "X = df[['T5','T6']].values #input\n",
    "y = df[['NGONNGU']].values #output\n",
    "\n",
    "#Đảm bảo dữ liệu là kiểu số thực\n",
    "X = X.astype(float)\n",
    "y = y.astype(float)"
   ]
  },
  {
   "cell_type": "code",
   "execution_count": 4,
   "id": "95f35c33",
   "metadata": {},
   "outputs": [],
   "source": [
    "#Chia tách ra trainning ( huấn luyện ) và testing (kiểm thử)\n",
    "from sklearn.model_selection import train_test_split\n",
    "X_train,X_test,y_train,y_test = train_test_split(X,y,test_size=0.2,random_state=16 )"
   ]
  },
  {
   "cell_type": "code",
   "execution_count": 5,
   "id": "d2d6359e",
   "metadata": {},
   "outputs": [],
   "source": [
    "from sklearn.preprocessing import MinMaxScaler\n",
    "#Scale cho input\n",
    "sc = MinMaxScaler()\n",
    "X_train = sc.fit_transform(X_train)"
   ]
  },
  {
   "cell_type": "code",
   "execution_count": 6,
   "id": "3b607eb3",
   "metadata": {},
   "outputs": [
    {
     "name": "stdout",
     "output_type": "stream",
     "text": [
      "[3.73936498]\n",
      "[[ 1.268621   -1.34529033]]\n"
     ]
    }
   ],
   "source": [
    "#Xây dựng mô hình hồi quy tuyến tính đa biến\n",
    "# NGONNGU = A0 + A1*T5 + A2*T6   + epsilon (T5,T6 đã chuẩn hóa)\n",
    "\n",
    "from sklearn import linear_model\n",
    "\n",
    "model = linear_model.LinearRegression()\n",
    "model.fit(X_train,y_train)\n",
    "\n",
    "#Sinh Viên xác định các giá trị này tương ứng với gì \n",
    "\n",
    "print(model.intercept_)\n",
    "\n",
    "print(model.coef_)\n"
   ]
  },
  {
   "cell_type": "code",
   "execution_count": 7,
   "id": "637c3a41",
   "metadata": {},
   "outputs": [
    {
     "name": "stdout",
     "output_type": "stream",
     "text": [
      "Score or R-Squared: -0.07691460875153777\n",
      "Mean Absolute Error: 1.1905472933346881\n",
      "Mean Squared Error: 1.9874122568694392\n",
      "Root Mean Squared Error: 1.4097560983622093\n",
      "Mean Absolute Percentage Error: 0.38123864099681043\n"
     ]
    }
   ],
   "source": [
    "import numpy as np\n",
    "from sklearn import metrics\n",
    "\n",
    "\n",
    "X_test = sc.transform(X_test)\n",
    "\n",
    "#Tinh gia tri du bao T6 dua tren du lieu T5 cua tap Test\n",
    "y_test_pred = model.predict(X_test)\n",
    "\n",
    "print('Score or R-Squared:',model.score(X_test,y_test))\n",
    "\n",
    "print('Mean Absolute Error:',metrics.mean_absolute_error(y_test,y_test_pred))\n",
    "\n",
    "print('Mean Squared Error:',metrics.mean_squared_error(y_test,y_test_pred))\n",
    "\n",
    "print('Root Mean Squared Error:',np.sqrt(metrics.mean_squared_error(y_test,y_test_pred)))\n",
    "\n",
    "print('Mean Absolute Percentage Error:',metrics.mean_absolute_percentage_error(y_test,y_test_pred))"
   ]
  },
  {
   "cell_type": "code",
   "execution_count": null,
   "id": "3a24f7e2",
   "metadata": {},
   "outputs": [],
   "source": [
    "R-Squared âm thì điểm T5 và T6 không có ý nghĩa gì trong dự báo ngôn ngữ"
   ]
  },
  {
   "cell_type": "code",
   "execution_count": 14,
   "id": "310c7317",
   "metadata": {},
   "outputs": [
    {
     "name": "stdout",
     "output_type": "stream",
     "text": [
      "Giá trị T5 và T6 sau khi scale : [[0.46153846 0.65517241]]\n",
      "Giá trị dự báo điểm ngôn ngữ: [[3.44348526]]\n"
     ]
    }
   ],
   "source": [
    "vT5 = 6.0\n",
    "vT6 = 7.5\n",
    "# Đặt câu hỏi khi vT5 =. 0.0 thì tại sao giá trị sccale lại > 1.0\n",
    "# => Tại vì dựa trên điểm T5 lịch sử nên và nếu đưa giá trị 10 không có trong lịch sử thì nó không dự báo đúng\n",
    "# => và Kết quả này sẽ không tin cậy.\n",
    "# => có thể kết luận là dữ liệu của bạn không đủ lớn \n",
    "scaled = sc.transform([[vT5,vT6]])\n",
    "\n",
    "print(f\"Giá trị T5 và T6 sau khi scale : {scaled}\")\n",
    "\n",
    "predicted_ngonngu = model.predict(scaled)\n",
    "\n",
    "print(f\"Giá trị dự báo điểm ngôn ngữ: {predicted_ngonngu}\")"
   ]
  },
  {
   "cell_type": "code",
   "execution_count": null,
   "id": "722c7101",
   "metadata": {},
   "outputs": [],
   "source": []
  }
 ],
 "metadata": {
  "kernelspec": {
   "display_name": "Python 3 (ipykernel)",
   "language": "python",
   "name": "python3"
  },
  "language_info": {
   "codemirror_mode": {
    "name": "ipython",
    "version": 3
   },
   "file_extension": ".py",
   "mimetype": "text/x-python",
   "name": "python",
   "nbconvert_exporter": "python",
   "pygments_lexer": "ipython3",
   "version": "3.10.9"
  }
 },
 "nbformat": 4,
 "nbformat_minor": 5
}
