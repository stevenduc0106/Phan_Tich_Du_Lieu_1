{
 "cells": [
  {
   "cell_type": "code",
   "execution_count": 15,
   "metadata": {},
   "outputs": [],
   "source": [
    "import pyodbc\n",
    "conn = pyodbc.connect('DRIVER={ODBC Driver 17 for SQL Server};'\n",
    "                        'SERVER=localhost;'\n",
    "                        'DATABASE=dbPythonTestSQL;'\n",
    "                        'UID=sa;'        \n",
    "                        'PWD=123456;')\n",
    "                        # 'Trusted_Connection=yes;')"
   ]
  },
  {
   "cell_type": "code",
   "execution_count": 16,
   "metadata": {},
   "outputs": [],
   "source": [
    "cursor = conn.cursor()"
   ]
  },
  {
   "cell_type": "code",
   "execution_count": 17,
   "metadata": {},
   "outputs": [
    {
     "name": "stdout",
     "output_type": "stream",
     "text": [
      "('u0001', 'Henry', datetime.date(2001, 7, 31), 125.5, 1)\n",
      "('u0002', 'Peter', datetime.date(1990, 8, 25), 650.0, 1)\n",
      "('u0003', 'Owen', datetime.date(1995, 2, 28), 275.5, 2)\n",
      "('u0004', 'Jackson', datetime.date(2002, 4, 25), 400.0, 4)\n",
      "('u0005', 'Ellite', datetime.date(2000, 5, 20), 600.0, 3)\n"
     ]
    }
   ],
   "source": [
    "# a. Lấy thông tin nhân viên có tuổi nhỏ hơn 35\n",
    "cursor.execute('SELECT * FROM tblUsers WHERE YEAR(GETDATE()) - YEAR(ubirthday) < 35')\n",
    "for i in cursor:\n",
    "    print(i)"
   ]
  },
  {
   "cell_type": "code",
   "execution_count": 18,
   "metadata": {},
   "outputs": [
    {
     "name": "stdout",
     "output_type": "stream",
     "text": [
      "('Henry', 22)\n",
      "('Peter', 33)\n",
      "('Owen', 28)\n",
      "('Jackson', 21)\n",
      "('Ellite', 23)\n"
     ]
    }
   ],
   "source": [
    "# b. Lấy thông tin uname và tuổi (age) của tất cả các nhân viên\n",
    "cursor.execute('SELECT uname, YEAR(GETDATE()) - YEAR(ubirthday) AS age FROM tblUsers')\n",
    "for i in cursor:\n",
    "    print(i)"
   ]
  },
  {
   "cell_type": "code",
   "execution_count": 19,
   "metadata": {},
   "outputs": [],
   "source": [
    "# c. Thêm nhân viên mới (u0006,”David”,”07-22-2000”,450,5)\n",
    "cursor.execute(\"INSERT INTO tblUsers VALUES ('u0006', 'David', '07-22-2000', 450, 5)\")\n",
    "conn.commit()"
   ]
  },
  {
   "cell_type": "code",
   "execution_count": 20,
   "metadata": {},
   "outputs": [],
   "source": [
    "# d. Cập nhật lương của nhân viên u0002 thành 650\n",
    "cursor.execute(\"UPDATE tblUsers SET usalary=650 WHERE uid='u0002'\")\n",
    "conn.commit()"
   ]
  },
  {
   "cell_type": "code",
   "execution_count": 21,
   "metadata": {},
   "outputs": [],
   "source": [
    "# e. Xóa nhân viên u0006\n",
    "cursor.execute(\"DELETE FROM tblUsers WHERE uid='u0006'\")\n",
    "conn.commit()"
   ]
  }
 ],
 "metadata": {
  "kernelspec": {
   "display_name": "Python 3 (ipykernel)",
   "language": "python",
   "name": "python3"
  },
  "language_info": {
   "codemirror_mode": {
    "name": "ipython",
    "version": 3
   },
   "file_extension": ".py",
   "mimetype": "text/x-python",
   "name": "python",
   "nbconvert_exporter": "python",
   "pygments_lexer": "ipython3",
   "version": "3.10.9"
  }
 },
 "nbformat": 4,
 "nbformat_minor": 2
}
